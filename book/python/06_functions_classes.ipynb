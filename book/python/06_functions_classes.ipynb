{
 "cells": [
  {
   "cell_type": "markdown",
   "id": "0",
   "metadata": {},
   "source": [
    "# Functions and Classes\n",
    "\n",
    "[![Open In Colab](https://colab.research.google.com/assets/colab-badge.svg)](https://colab.research.google.com/github/giswqs/geog-312/blob/main/book/python/06_functions_classes.ipynb)\n",
    "\n",
    "## Overview\n",
    "\n",
    "This lecture introduces the concepts of functions and classes in Python, focusing on their application in geospatial programming. Functions allow you to encapsulate code into reusable blocks, making your scripts more modular and easier to maintain. Classes provide a way to create complex data structures by bundling data and functionality together. By understanding and applying these concepts, you will be able to build more sophisticated and efficient geospatial analysis tools.\n",
    "\n",
    "## Learning Objectives\n",
    "\n",
    "By the end of this lecture, you should be able to:\n",
    "\n",
    "- Define and use functions to perform specific tasks and promote code reuse in geospatial applications.\n",
    "- Understand and implement classes to represent complex geospatial data structures, such as geographic features.\n",
    "- Combine functions and classes to create modular and scalable geospatial tools.\n",
    "- Apply object-oriented programming principles to organize and manage geospatial data and operations effectively.\n",
    "- Develop the skills to extend existing classes and create new ones tailored to specific geospatial tasks."
   ]
  },
  {
   "cell_type": "markdown",
   "id": "1",
   "metadata": {},
   "source": [
    "## Functions\n",
    "\n",
    "Functions are blocks of code that perform a specific task and can be reused multiple times. They allow you to structure your code more efficiently and reduce redundancy.\n",
    "\n",
    "### Defining a Simple Function\n",
    "\n",
    "Here's a simple function that adds two numbers:"
   ]
  },
  {
   "cell_type": "code",
   "execution_count": 6,
   "id": "2",
   "metadata": {},
   "outputs": [
    {
     "name": "stdout",
     "output_type": "stream",
     "text": [
      "Result: 8\n"
     ]
    }
   ],
   "source": [
    "def add(a, b):\n",
    "    return a + b\n",
    "\n",
    "# Example usage\n",
    "result = add(5, 3)\n",
    "print(f\"Result: {result}\")"
   ]
  },
  {
   "cell_type": "markdown",
   "id": "3",
   "metadata": {},
   "source": [
    "This function takes two parameters `a` and `b`, and returns their sum. You can call it by passing two values as arguments.\n",
    "\n",
    "### Parameters with Default Values\n",
    "\n",
    "Sometimes, you may want a function to have optional parameters with default values. You can specify a default value by assigning it in the function definition."
   ]
  },
  {
   "cell_type": "code",
   "execution_count": 7,
   "id": "4",
   "metadata": {},
   "outputs": [
    {
     "name": "stdout",
     "output_type": "stream",
     "text": [
      "Hello, Alice!\n",
      "Hi, Bob!\n"
     ]
    }
   ],
   "source": [
    "def greet(name, greeting=\"Hello\"):\n",
    "    return f\"{greeting}, {name}!\"\n",
    "\n",
    "\n",
    "# Example usage\n",
    "print(greet(\"Alice\"))  # ! Uses the default greeting\n",
    "print(greet(\"Bob\", \"Hi\"))  # ! Overrides the default greeting"
   ]
  },
  {
   "cell_type": "markdown",
   "id": "5",
   "metadata": {},
   "source": [
    "In this example, the greeting parameter has a default value of `\"Hello\"`. If you don't provide a second argument, the function will use this default. If you provide one, it will override the default value.\n",
    "\n",
    "### Calling Functions\n",
    "\n",
    "To call a function, you simply use its name followed by parentheses containing the arguments you want to pass. For example:"
   ]
  },
  {
   "cell_type": "code",
   "execution_count": 8,
   "id": "6",
   "metadata": {},
   "outputs": [
    {
     "name": "stdout",
     "output_type": "stream",
     "text": [
      "Multiplication Result: 20\n"
     ]
    }
   ],
   "source": [
    "# Function to multiply two numbers\n",
    "def multiply(a, b):\n",
    "    return a * b\n",
    "\n",
    "\n",
    "# Calling the function\n",
    "result = multiply(4, 5)\n",
    "print(f\"Multiplication Result: {result}\")"
   ]
  },
  {
   "cell_type": "markdown",
   "id": "7",
   "metadata": {},
   "source": [
    "You can call the multiply function with two numbers, and it will return their product.\n",
    "\n",
    "### Geospatial Example: Haversine Function\n",
    "\n",
    "Let's apply these concepts to a geospatial problem. The [Haversine formula](https://en.wikipedia.org/wiki/Haversine_formula) calculates the distance between two points on the Earth’s surface.\n",
    "\n",
    "![](https://upload.wikimedia.org/wikipedia/commons/c/cb/Illustration_of_great-circle_distance.svg)"
   ]
  },
  {
   "cell_type": "code",
   "execution_count": 9,
   "id": "8",
   "metadata": {},
   "outputs": [],
   "source": [
    "from math import radians, sin, cos, sqrt, atan2"
   ]
  },
  {
   "cell_type": "code",
   "execution_count": 10,
   "id": "9",
   "metadata": {},
   "outputs": [
    {
     "name": "stdout",
     "output_type": "stream",
     "text": [
      "Distance: 8815.47 km\n"
     ]
    }
   ],
   "source": [
    "def haversine(lat1, lon1, lat2, lon2):\n",
    "    R = 6371.0  # Earth radius in kilometers\n",
    "    dlat = radians(lat2 - lat1)\n",
    "    dlon = radians(lon2 - lon1)\n",
    "    a = (\n",
    "        sin(dlat / 2) ** 2\n",
    "        + cos(radians(lat1)) * cos(radians(lat2)) * sin(dlon / 2) ** 2\n",
    "    )\n",
    "    c = 2 * atan2(sqrt(a), sqrt(1 - a))\n",
    "    distance = R * c\n",
    "    return distance\n",
    "\n",
    "\n",
    "# Example usage\n",
    "distance = haversine(35.6895, 139.6917, 34.0522, -118.2437)\n",
    "print(f\"Distance: {distance:.2f} km\")"
   ]
  },
  {
   "cell_type": "markdown",
   "id": "10",
   "metadata": {},
   "source": [
    "### Function with Default Values and Geospatial Application\n",
    "\n",
    "Now let's modify the haversine function to accept an optional Earth radius parameter, which has a default value for kilometers but can be set for other units like miles."
   ]
  },
  {
   "cell_type": "code",
   "execution_count": 11,
   "id": "11",
   "metadata": {},
   "outputs": [
    {
     "name": "stdout",
     "output_type": "stream",
     "text": [
      "Distance in kilometers: 8815.47 km\n",
      "Distance in miles: 5477.74 miles\n"
     ]
    }
   ],
   "source": [
    "def haversine(lat1, lon1, lat2, lon2, radius=6371.0):\n",
    "    dlat = radians(lat2 - lat1)\n",
    "    dlon = radians(lon2 - lon1)\n",
    "    a = (\n",
    "        sin(dlat / 2) ** 2\n",
    "        + cos(radians(lat1)) * cos(radians(lat2)) * sin(dlon / 2) ** 2\n",
    "    )\n",
    "    c = 2 * atan2(sqrt(a), sqrt(1 - a))\n",
    "    distance = radius * c\n",
    "    return distance\n",
    "\n",
    "\n",
    "# Example usage in kilometers\n",
    "distance_km = haversine(35.6895, 139.6917, 34.0522, -118.2437)\n",
    "print(f\"Distance in kilometers: {distance_km:.2f} km\")\n",
    "\n",
    "# Example usage in miles (radius of Earth is approximately 3958.8 miles)\n",
    "distance_miles = haversine(35.6895, 139.6917, 34.0522, -118.2437, radius=3958.8)\n",
    "print(f\"Distance in miles: {distance_miles:.2f} miles\")"
   ]
  },
  {
   "cell_type": "markdown",
   "id": "12",
   "metadata": {},
   "source": [
    "In this example, the radius parameter has a default value of 6371.0 for kilometers, but you can specify 3958.8 if you want the distance in miles.\n",
    "\n",
    "Now, let's create a function that takes a list of coordinate pairs and returns a list of distances between consecutive points."
   ]
  },
  {
   "cell_type": "code",
   "execution_count": 12,
   "id": "1f44fc85",
   "metadata": {},
   "outputs": [
    {
     "name": "stdout",
     "output_type": "stream",
     "text": [
      "[0, 1, 2, 3, 4]\n"
     ]
    },
    {
     "data": {
      "text/plain": [
       "5"
      ]
     },
     "execution_count": 12,
     "metadata": {},
     "output_type": "execute_result"
    }
   ],
   "source": [
    "list = []\n",
    "for i in range(5):\n",
    "    list.append(i)\n",
    "print(list)\n",
    "len(list)"
   ]
  },
  {
   "cell_type": "code",
   "execution_count": 13,
   "id": "5f3347c4",
   "metadata": {},
   "outputs": [
    {
     "name": "stdout",
     "output_type": "stream",
     "text": [
      "1\n",
      "3\n",
      "5\n",
      "7\n",
      "9\n"
     ]
    }
   ],
   "source": [
    "for i in range(1, 10, 2):\n",
    "    print(i)"
   ]
  },
  {
   "cell_type": "code",
   "execution_count": 14,
   "id": "13",
   "metadata": {},
   "outputs": [
    {
     "name": "stdout",
     "output_type": "stream",
     "text": [
      "Distances: [8815.473355809401, 3935.746254609723]\n"
     ]
    }
   ],
   "source": [
    "def batch_haversine(coord_list):\n",
    "    distances = []\n",
    "    for i in range(len(coord_list) - 1):\n",
    "        lat1, lon1 = coord_list[i]\n",
    "        lat2, lon2 = coord_list[i + 1]\n",
    "        distance = haversine(lat1, lon1, lat2, lon2)\n",
    "        distances.append(distance)\n",
    "    return distances\n",
    "\n",
    "\n",
    "# Example usage\n",
    "coordinates = [(35.6895, 139.6917), (34.0522, -118.2437), (40.7128, -74.0060)]\n",
    "distances = batch_haversine(coordinates)\n",
    "print(f\"Distances: {distances}\")"
   ]
  },
  {
   "cell_type": "markdown",
   "id": "14",
   "metadata": {},
   "source": [
    "### Function with Variable Arguments\n",
    "\n",
    "You can also create functions that accept a variable number of arguments using `*args`."
   ]
  },
  {
   "cell_type": "code",
   "execution_count": 15,
   "id": "15",
   "metadata": {},
   "outputs": [
    {
     "name": "stdout",
     "output_type": "stream",
     "text": [
      "20.0\n",
      "20.0\n"
     ]
    }
   ],
   "source": [
    "def average(*numbers): # ! Can accept any number of arguments\n",
    "    return sum(numbers) / len(numbers)\n",
    "\n",
    "\n",
    "# Example usage\n",
    "print(average(10, 20, 30))  # 20.0\n",
    "print(average(5, 15, 25, 35))  # 20.0"
   ]
  },
  {
   "cell_type": "markdown",
   "id": "16",
   "metadata": {},
   "source": [
    "In Python, you can use `**kwargs` (short for \"keyword arguments\") in function definitions to pass a variable number of named arguments. This allows you to handle a flexible set of parameters in a function.\n",
    "\n",
    "Let's create an example that demonstrates how to use `**kwargs` in a function:"
   ]
  },
  {
   "cell_type": "code",
   "execution_count": 16,
   "id": "17",
   "metadata": {},
   "outputs": [
    {
     "name": "stdout",
     "output_type": "stream",
     "text": [
      "Point at (35.6895, 139.6917), name: Tokyo, population: 37400000\n",
      "Point at (34.0522, -118.2437), name: Los Angeles, state: California\n"
     ]
    }
   ],
   "source": [
    "def describe_point(latitude, longitude, **kwargs):\n",
    "    description = f\"Point at ({latitude}, {longitude})\"\n",
    "\n",
    "    # Add optional keyword arguments to the description\n",
    "    for key, value in kwargs.items():\n",
    "        description += f\", {key}: {value}\"\n",
    "\n",
    "    return description\n",
    "\n",
    "\n",
    "# Example usage\n",
    "print(describe_point(35.6895, 139.6917, name=\"Tokyo\", population=37400000))\n",
    "print(describe_point(34.0522, -118.2437, name=\"Los Angeles\", state=\"California\"))"
   ]
  },
  {
   "cell_type": "markdown",
   "id": "18",
   "metadata": {},
   "source": [
    "## Classes\n",
    "\n",
    "Classes are blueprints for creating objects, which can have attributes (data) and methods (functions). They help represent more complex data structures.\n",
    "\n",
    "### Defining a Simple Class\n",
    "\n",
    "Here's a simple Point class to represent geographic points:"
   ]
  },
  {
   "cell_type": "code",
   "execution_count": 17,
   "id": "19",
   "metadata": {},
   "outputs": [
    {
     "name": "stdout",
     "output_type": "stream",
     "text": [
      "Tokyo (35.6895, 139.6917)\n",
      "Tokyo\n"
     ]
    }
   ],
   "source": [
    "class Point:\n",
    "    def __init__(self, latitude, longitude, name = None):\n",
    "        self.latitude = latitude\n",
    "        self.longitude = longitude\n",
    "        self.name = name\n",
    "\n",
    "    def __str__(self):\n",
    "        return f\"{self.name or 'Point'} ({self.latitude}, {self.longitude})\"\n",
    "\n",
    "\n",
    "# Example usage\n",
    "point1 = Point(35.6895, 139.6917, \"Tokyo\")\n",
    "print(point1)\n",
    "print(point1.name)"
   ]
  },
  {
   "cell_type": "code",
   "execution_count": 18,
   "id": "8161f2e2",
   "metadata": {},
   "outputs": [
    {
     "name": "stdout",
     "output_type": "stream",
     "text": [
      "<__main__.Person object at 0x7f43c1ad6f90>\n"
     ]
    }
   ],
   "source": [
    "'' # ! TO understand the difference between __str__ and not using\n",
    "\n",
    "class Person:\n",
    "    def __init__(self, name, age):\n",
    "        self.name = name\n",
    "        self.age = age\n",
    "\n",
    "# Create an instance of Person\n",
    "person = Person(\"Alice\", 17)\n",
    "\n",
    "# Print the instance\n",
    "print(person)  # Out"
   ]
  },
  {
   "cell_type": "code",
   "execution_count": 19,
   "id": "13283272",
   "metadata": {},
   "outputs": [],
   "source": [
    "import leafmap\n",
    "#import leafmap.foliumap as leafmap # * As an alternative, you can import the foliumap module"
   ]
  },
  {
   "cell_type": "code",
   "execution_count": 20,
   "id": "36f6d494",
   "metadata": {},
   "outputs": [
    {
     "data": {
      "application/vnd.jupyter.widget-view+json": {
       "model_id": "779fb68367604ec7a7e8260450bf1f19",
       "version_major": 2,
       "version_minor": 0
      },
      "text/plain": [
       "Map(center=[20, 0], controls=(ZoomControl(options=['position', 'zoom_in_text', 'zoom_in_title', 'zoom_out_text…"
      ]
     },
     "execution_count": 20,
     "metadata": {},
     "output_type": "execute_result"
    }
   ],
   "source": [
    "m = leafmap.Map()\n",
    "m\n"
   ]
  },
  {
   "cell_type": "markdown",
   "id": "20",
   "metadata": {},
   "source": [
    "### Adding Methods to a Class\n",
    "\n",
    "You can add methods to the class to perform operations on the attributes."
   ]
  },
  {
   "cell_type": "code",
   "execution_count": 21,
   "id": "21",
   "metadata": {},
   "outputs": [
    {
     "name": "stdout",
     "output_type": "stream",
     "text": [
      "Distance from Tokyo to Los Angeles: 8815.47 km\n",
      "<__main__.Point object at 0x7f4305ab20d0>\n",
      "34.870850000000004 10.723999999999997\n"
     ]
    }
   ],
   "source": [
    "class Point:\n",
    "    def __init__(self, latitude, longitude, name=None):\n",
    "        self.latitude = latitude\n",
    "        self.longitude = longitude\n",
    "        self.name = name\n",
    "\n",
    "    def distance_to(self, other_point):\n",
    "        return haversine(\n",
    "            self.latitude, self.longitude, other_point.latitude, other_point.longitude\n",
    "        )\n",
    "    \n",
    "    def mid_point(self, other_point):\n",
    "        return Point(\n",
    "            (self.latitude + other_point.latitude) / 2,\n",
    "            (self.longitude + other_point.longitude) / 2,\n",
    "        )\n",
    "\n",
    "\n",
    "# Example usage\n",
    "point1 = Point(35.6895, 139.6917, \"Tokyo\")\n",
    "point2 = Point(34.0522, -118.2437, \"Los Angeles\")\n",
    "print(\n",
    "    f\"Distance from {point1.name} to {point2.name}: {point1.distance_to(point2):.2f} km\"\n",
    ")\n",
    "\n",
    "print(point1.mid_point(point2)) #!thi sbecomes another point object and same as distance to we need to extract the values\n",
    "\n",
    "mid_point = point1.mid_point(point2)\n",
    "print(mid_point.latitude, mid_point.longitude)"
   ]
  },
  {
   "cell_type": "code",
   "execution_count": 22,
   "id": "9bdd0c44",
   "metadata": {},
   "outputs": [
    {
     "name": "stdout",
     "output_type": "stream",
     "text": [
      "Distance from Tokyo to Los Angeles: 8815.47 km\n",
      "Point (34.870850000000004, 10.723999999999997)\n"
     ]
    }
   ],
   "source": [
    "'TO make humanly readeable the object we add __str__'\n",
    "\n",
    "class Point:\n",
    "    def __init__(self, latitude, longitude, name=None):\n",
    "        self.latitude = latitude\n",
    "        self.longitude = longitude\n",
    "        self.name = name\n",
    "\n",
    "    def distance_to(self, other_point):\n",
    "        return haversine(\n",
    "            self.latitude, self.longitude, other_point.latitude, other_point.longitude\n",
    "        )\n",
    "    \n",
    "    def mid_point(self, other_point):\n",
    "        return Point(\n",
    "            (self.latitude + other_point.latitude) / 2,\n",
    "            (self.longitude + other_point.longitude) / 2,\n",
    "        )\n",
    "\n",
    "    def __str__(self):\n",
    "        return f\"{self.name or 'Point'} ({self.latitude}, {self.longitude})\"\n",
    "\n",
    "# Example usage\n",
    "point1 = Point(35.6895, 139.6917, \"Tokyo\")\n",
    "point2 = Point(34.0522, -118.2437, \"Los Angeles\")\n",
    "print(\n",
    "    f\"Distance from {point1.name} to {point2.name}: {point1.distance_to(point2):.2f} km\"\n",
    ")\n",
    "\n",
    "mid_point = point1.mid_point(point2)\n",
    "print(mid_point)"
   ]
  },
  {
   "cell_type": "markdown",
   "id": "22",
   "metadata": {},
   "source": [
    "### Constructor with Default Values\n",
    "\n",
    "You can also use default values in the constructor of a class."
   ]
  },
  {
   "cell_type": "code",
   "execution_count": 23,
   "id": "23",
   "metadata": {},
   "outputs": [],
   "source": [
    "class Point:\n",
    "    def __init__(self, latitude, longitude, name=\"Unnamed\"):\n",
    "        self.latitude = latitude\n",
    "        self.longitude = longitude\n",
    "        self.name = name"
   ]
  },
  {
   "cell_type": "code",
   "execution_count": 24,
   "id": "2845196b",
   "metadata": {},
   "outputs": [
    {
     "name": "stdout",
     "output_type": "stream",
     "text": [
      "Unnamed\n"
     ]
    }
   ],
   "source": [
    "p = Point(15, 17)\n",
    "print(p.name)"
   ]
  },
  {
   "cell_type": "code",
   "execution_count": 25,
   "id": "ebf7e32c",
   "metadata": {},
   "outputs": [
    {
     "name": "stdout",
     "output_type": "stream",
     "text": [
      "Tokyo (35.6895, 139.6917) - Tokyo\n",
      "Unnamed (34.0522, -118.2437) - Unnamed\n"
     ]
    }
   ],
   "source": [
    "\"Predefining name , this can be overwritten\"\n",
    "class Point:\n",
    "    def __init__(self, latitude, longitude, name=\"Unnamed\"):\n",
    "        self.latitude = latitude\n",
    "        self.longitude = longitude\n",
    "        self.name = name\n",
    "\n",
    "    def __str__(self):\n",
    "        return f\"{self.name or 'Point'} ({self.latitude}, {self.longitude}) - {self.name}\"\n",
    "    \n",
    "point_test = Point(35.6895, 139.6917, \"Tokyo\")\n",
    "print(point_test)\n",
    "\n",
    "point_test2 = Point(34.0522, -118.2437)\n",
    "print(point_test2)"
   ]
  },
  {
   "cell_type": "code",
   "execution_count": 26,
   "id": "9927cdbb",
   "metadata": {},
   "outputs": [
    {
     "name": "stdout",
     "output_type": "stream",
     "text": [
      "Tokyo (35.6895, 139.6917) \n",
      "Population: 37400000\n"
     ]
    }
   ],
   "source": [
    "\"Parameter name is not optional **kwargs\"\n",
    "class Point:\n",
    "    def __init__(self, latitude, longitude, name, **kwargs):\n",
    "        self.latitude = latitude\n",
    "        self.longitude = longitude\n",
    "        self.name = name\n",
    "\n",
    "        for key, value in kwargs.items():\n",
    "            setattr(self, key, value)\n",
    "\n",
    "    def __str__(self):\n",
    "        return f\"{self.name or 'Point'} ({self.latitude}, {self.longitude}) \"\n",
    "    \n",
    "point_test = Point(35.6895, 139.6917, \"Tokyo\", population=37400000, country=\"Japan\")\n",
    "print(point_test)\n",
    "\n",
    "print(f\"Population: {point_test.population}\")"
   ]
  },
  {
   "cell_type": "markdown",
   "id": "7c3264b9",
   "metadata": {},
   "source": [
    "# Refining with  \n",
    "\n",
    "- self.__dict__ is a dictionary containing all attributes of the instance.\n",
    "  \n",
    "- We need to iterate over all attributes of the Point object, including both the predefined ones (latitude, longitude, name) and any additional attributes added via **kwargs.\n",
    "  \n",
    "- Simply using items() wouldn't work here because there's no standalone items() method in this context. We need to specify which dictionary we're getting items from."
   ]
  },
  {
   "cell_type": "code",
   "execution_count": 42,
   "id": "4d631790",
   "metadata": {},
   "outputs": [
    {
     "name": "stdout",
     "output_type": "stream",
     "text": [
      "Tokyo (35.6895, 139.6917), population = 37400000, country = Japan\n",
      "Los Angeles (34.0522, -118.2437), population = 13310447, state = California, temperature = 22\n"
     ]
    }
   ],
   "source": [
    "\"\"# ! This is a more refined example of the above\n",
    "\n",
    "class Point:\n",
    "    def __init__(self, latitude, longitude, name, **kwargs):\n",
    "        self.latitude = latitude\n",
    "        self.longitude = longitude\n",
    "        self.name = name\n",
    "        \n",
    "        for key, value in kwargs.items():\n",
    "            setattr(self, key, value)\n",
    "\n",
    "    def distance_to(self, other_point):\n",
    "        return haversine(\n",
    "            self.latitude, self.longitude, other_point.latitude, other_point.longitude\n",
    "        )\n",
    "\n",
    "    def __str__(self):\n",
    "        base_str = f\"{self.name or 'Point'} ({self.latitude}, {self.longitude})\"\n",
    "        extra_attrs = \"\"\n",
    "        for key, value in self.__dict__.items():\n",
    "            if key not in ['latitude', 'longitude', 'name']:\n",
    "                extra_attrs += f\", {key} = {value}\"\n",
    "        return base_str + extra_attrs\n",
    "\n",
    "# Example usage\n",
    "point_test = Point(35.6895, 139.6917, \"Tokyo\", population=37400000, country=\"Japan\")\n",
    "print(point_test)\n",
    "\n",
    "point_test_2 = Point(34.0522, -118.2437, \"Los Angeles\", population=13310447, state=\"California\", temperature=22)\n",
    "print(point_test_2)   "
   ]
  },
  {
   "cell_type": "code",
   "execution_count": 38,
   "id": "46daa41a",
   "metadata": {},
   "outputs": [
    {
     "name": "stdout",
     "output_type": "stream",
     "text": [
      "Tokyo (35.6895, 139.6917), extra_info = {'population': 37400000, 'country': 'Japan'}\n"
     ]
    }
   ],
   "source": [
    "extra_info = {\"population\": 37400000, \"country\": \"Japan\"}\n",
    "point_test = Point(35.6895, 139.6917, \"Tokyo\", extra_info=extra_info)\n",
    "print(point_test)"
   ]
  },
  {
   "cell_type": "code",
   "execution_count": 40,
   "id": "75730936",
   "metadata": {},
   "outputs": [
    {
     "name": "stdout",
     "output_type": "stream",
     "text": [
      "Tokyo (35.6895, 139.6917), population = 37400000, country = Japan, main_commerce = Anime, Pasta = Ramen\n"
     ]
    }
   ],
   "source": [
    "# unpacking the dictionary\n",
    "\n",
    "extra_info = {\"population\": 37400000, \"country\": \"Japan\"}\n",
    "extra_info2 = {\"main_commerce\": \"Anime\", \"Pasta\": \"Ramen\"}\n",
    "point_test = Point(35.6895, 139.6917, \"Tokyo\", **extra_info, **extra_info2)\n",
    "print(point_test)"
   ]
  },
  {
   "cell_type": "markdown",
   "id": "24",
   "metadata": {},
   "source": [
    "## Combining Functions and Classes\n",
    "\n",
    "You can use functions within classes to create more powerful and flexible geospatial tools. For instance, by incorporating distance calculations and midpoints, we can make the `Point` class much more versatile.\n",
    "\n",
    "Let's create a method in the `Point` class that calculates the total distance when traveling through a series of points."
   ]
  },
  {
   "cell_type": "code",
   "execution_count": 43,
   "id": "25",
   "metadata": {},
   "outputs": [
    {
     "name": "stdout",
     "output_type": "stream",
     "text": [
      "Total distance: 8815.47 km\n"
     ]
    }
   ],
   "source": [
    "\"\" # ! Using refined Point class with route class to calculate total distance\n",
    "\n",
    "\n",
    "class Route:\n",
    "    def __init__(self, points):\n",
    "        self.points = points\n",
    "\n",
    "    def total_distance(self):\n",
    "        total_dist = 0\n",
    "        for i in range(len(self.points) - 1):\n",
    "            total_dist += self.points[i].distance_to(self.points[i + 1])\n",
    "        return total_dist\n",
    "\n",
    "# Example usage\n",
    "point1 = Point(35.6895, 139.6917, \"Tokyo\")\n",
    "point2 = Point(34.0522, -118.2437, \"Los Angeles\")\n",
    "\n",
    "route = Route([point1, point2])\n",
    "print(f\"Total distance: {route.total_distance():.2f} km\")"
   ]
  },
  {
   "cell_type": "code",
   "execution_count": 44,
   "id": "24d7e5a1",
   "metadata": {},
   "outputs": [
    {
     "name": "stdout",
     "output_type": "stream",
     "text": [
      "Total distance: 18338.23 km\n"
     ]
    }
   ],
   "source": [
    "##Applying the route class + point class in series of object points\n",
    "\n",
    "point1 = Point(35.6895, 139.6917, \"Tokyo\")\n",
    "point2 = Point(34.0522, -118.2437, \"Los Angeles\")\n",
    "point3 = Point(40.7128, -74.0060, \"New York\")\n",
    "Point4 = Point(51.5074, 0.1278, \"London\")\n",
    "\n",
    "route = Route([point1, point2, point3, Point4])\n",
    "print(f\"Total distance: {route.total_distance():.2f} km\")\n"
   ]
  },
  {
   "cell_type": "markdown",
   "id": "26",
   "metadata": {},
   "source": [
    "## Exercises\n",
    "\n",
    "1. Write a function called `convert_distance` that converts distances from kilometers to miles and vice versa. The function should accept two parameters: `distance` and `unit`, where `unit` has a default value of `\"km\"`. If the unit is `\"km\"`, it should convert the distance to miles, and if the unit is `\"miles\"`, it should convert the distance to kilometers.\n",
    "2. Write a function called `sum_coordinates` that accepts a variable number of coordinate pairs (tuples) as input. The function should return the sum of all the latitude and longitude values provided.\n",
    "3. Extend the `Point` class to include a method called `move` that adjusts the latitude and longitude by a given amount. For example, if you call `move(1, -1)`, it should increase the latitude by 1 and decrease the longitude by 1.\n",
    "4. Create a `Rectangle` class that accepts two `Point` objects representing the bottom-left and top-right corners of the rectangle. The class should include a method called `area` that returns the area of the rectangle, assuming the coordinates are in the same coordinate system."
   ]
  },
  {
   "cell_type": "code",
   "execution_count": 58,
   "id": "27",
   "metadata": {},
   "outputs": [
    {
     "name": "stdout",
     "output_type": "stream",
     "text": [
      "\n",
      "Menu:\n",
      "1. Convert distance.\n",
      "2. Exit.\n",
      "Leaving the program\n"
     ]
    }
   ],
   "source": [
    "def convert_distance(distance, unit =\"km\"):\n",
    "    if unit == \"km\":\n",
    "        distance_m = distance * 0.62137\n",
    "        print(f\"The distance in miles is: {distance_m}\")\n",
    "    elif unit== \"miles\":\n",
    "        distance_km = distance * 1.609347\n",
    "        print(f\"The distance in km is: {distance_km}\")\n",
    "    else:\n",
    "        print(\"Invalid unit.Please enter 'km' or 'miles'\")\n",
    "\n",
    "def menu():\n",
    "    exit_program = False\n",
    "    while exit_program == False:\n",
    "        print(\"\\nMenu:\")\n",
    "        print(\"1. Convert distance.\")\n",
    "        print(\"2. Exit.\")\n",
    "\n",
    "        try:\n",
    "            choice = int(input(\"Enter your choice:\"))\n",
    "        except ValueError:\n",
    "            print(\"Please insert a valid option!\")\n",
    "            continue\n",
    "        \n",
    "\n",
    "        if  choice == 1:\n",
    "            try:\n",
    "                distance = float(input(\"Insert a distance\"))\n",
    "                unit = input(\"Enter unit km or miles:\").lower()\n",
    "                convert_distance(distance, unit)\n",
    "            except ValueError:\n",
    "                print(\"Enter a valid value for distance\")\n",
    "\n",
    "            while True:\n",
    "                stay_or_leave = input(\"Do you want to stay yes or no\").lower()\n",
    "                if stay_or_leave in [\"yes\",\"no\"]:\n",
    "                    break\n",
    "                else:\n",
    "                    print(\"Invalid input. Choose yes or no\")\n",
    "                    continue\n",
    "                \n",
    "            if stay_or_leave == \"yes\":\n",
    "                pass\n",
    "            elif stay_or_leave == 'no':\n",
    "                print(\"Leaving the program\")\n",
    "                exit_program = True\n",
    "                break\n",
    "                \n",
    "    \n",
    "\n",
    "        elif choice == 2:\n",
    "            print(\"Leaving the program\")\n",
    "            exit_program = True\n",
    "            #break\n",
    "\n",
    "        else:\n",
    "            print(\"Invalid choice. Please insert a valid option between 1 or 2.\")\n",
    "\n",
    "\n",
    "menu()\n",
    "\n"
   ]
  },
  {
   "cell_type": "code",
   "execution_count": 57,
   "id": "d3f0b34b",
   "metadata": {},
   "outputs": [
    {
     "name": "stdout",
     "output_type": "stream",
     "text": [
      "(92, -90)\n",
      "Total distance:(92, -90)\n"
     ]
    }
   ],
   "source": [
    "#Write a function called `sum_coordinates` that accepts a variable number of coordinate pairs (tuples) as input. \n",
    "# The function should return the sum of all the latitude and longitude values provided.\n",
    "\n",
    "def sum_coordinates(*coordinates):\n",
    "    total_lat = 0\n",
    "    total_lon = 0\n",
    "\n",
    "    for lat, lon in coordinates:\n",
    "        total_lat += lat\n",
    "        total_lon += lon\n",
    "    return total_lat, total_lon\n",
    "\n",
    "total_dist = sum_coordinates((5,80), (9, 10), (78,-180))\n",
    "print(total_dist)\n",
    "\n",
    "coordinates_gr = ((5,80), (9, 10), (78,-180))\n",
    "total_dist = sum_coordinates(*coordinates_gr)  #! To use a variable with a list of tuples we need to upack\n",
    "print(f\"Total distance:{total_dist}\")\n",
    "\n"
   ]
  },
  {
   "cell_type": "code",
   "execution_count": 74,
   "id": "579b854d",
   "metadata": {},
   "outputs": [
    {
     "name": "stdout",
     "output_type": "stream",
     "text": [
      "Tokyo (35.6895, 139.6917), population = 37400000, country = Japan\n",
      "Point moved to (45.6895, 149.6917)\n",
      "Alt pint move print to: (45.6895, 149.6917)\n"
     ]
    }
   ],
   "source": [
    "#Extending class point to move\n",
    "\n",
    "class Point:\n",
    "    def __init__(self, latitude, longitude, name, **kwargs):\n",
    "        self.latitude = latitude\n",
    "        self.longitude = longitude\n",
    "        self.name = name\n",
    "        \n",
    "        for key, value in kwargs.items():\n",
    "            setattr(self, key, value)\n",
    "\n",
    "    def distance_to(self, other_point):\n",
    "        return haversine(\n",
    "            self.latitude, self.longitude, other_point.latitude, other_point.longitude\n",
    "        )\n",
    "    \n",
    "    def move(self, dx, dy):\n",
    "        self.latitude += dx\n",
    "        self.longitude += dy\n",
    "        return f\"Point moved to ({self.latitude}, {self.longitude})\"\n",
    "        \n",
    "    def __str__(self):\n",
    "        base_str = f\"{self.name or 'Point'} ({self.latitude}, {self.longitude})\"\n",
    "        extra_attrs = \"\"\n",
    "        for key, value in self.__dict__.items():\n",
    "            if key not in ['latitude', 'longitude', 'name']:\n",
    "                extra_attrs += f\", {key} = {value}\"\n",
    "        return base_str + extra_attrs\n",
    "    \n",
    "    def display_position(self):\n",
    "        print(f\"Alt pint move print to: ({self.latitude}, {self.longitude})\")\n",
    "    \n",
    "\n",
    "\n",
    "# Example usage\n",
    "point_test = Point(35.6895, 139.6917, \"Tokyo\", population=37400000, country=\"Japan\")\n",
    "print(point_test)\n",
    "\n",
    "print(point_test.move(10,10)) #! printed using the return in move \n",
    "\n",
    "point_test.display_position() #! printed using a display function"
   ]
  },
  {
   "cell_type": "code",
   "execution_count": 59,
   "id": "b76f0454",
   "metadata": {},
   "outputs": [
    {
     "name": "stdout",
     "output_type": "stream",
     "text": [
      "Circle Info:\n",
      "Area: 78.53981633974483\n",
      "Circumference: 31.41592653589793\n",
      "\n",
      "Rectangle Info:\n",
      "Area: 12\n",
      "Perimeter: 14\n"
     ]
    }
   ],
   "source": [
    "#How to organise a class and functions o n the same file \n",
    "\n",
    "# 1. Imports\n",
    "import math\n",
    "\n",
    "# 2. Class Definitions\n",
    "class Circle:\n",
    "    def __init__(self, radius):\n",
    "        self.radius = radius\n",
    "\n",
    "    def area(self):\n",
    "        return math.pi * (self.radius ** 2)\n",
    "\n",
    "    def circumference(self):\n",
    "        return 2 * math.pi * self.radius\n",
    "\n",
    "class Rectangle:\n",
    "    def __init__(self, width, height):\n",
    "        self.width = width\n",
    "        self.height = height\n",
    "\n",
    "    def area(self):\n",
    "        return self.width * self.height\n",
    "\n",
    "    def perimeter(self):\n",
    "        return 2 * (self.width + self.height)\n",
    "\n",
    "# 3. Helper Functions\n",
    "def print_shape_info(shape):\n",
    "    print(f\"Area: {shape.area()}\")\n",
    "    if hasattr(shape, 'perimeter'):\n",
    "        print(f\"Perimeter: {shape.perimeter()}\")\n",
    "    elif hasattr(shape, 'circumference'):\n",
    "        print(f\"Circumference: {shape.circumference()}\")\n",
    "\n",
    "# 4. Main Code Execution\n",
    "if __name__ == \"__main__\":\n",
    "    circle = Circle(radius=5)\n",
    "    rectangle = Rectangle(width=3, height=4)\n",
    "\n",
    "    print(\"Circle Info:\")\n",
    "    print_shape_info(circle)\n",
    "\n",
    "    print(\"\\nRectangle Info:\")\n",
    "    print_shape_info(rectangle)"
   ]
  },
  {
   "cell_type": "code",
   "execution_count": 12,
   "id": "7c22954b",
   "metadata": {},
   "outputs": [
    {
     "data": {
      "text/plain": [
       "100"
      ]
     },
     "execution_count": 12,
     "metadata": {},
     "output_type": "execute_result"
    }
   ],
   "source": [
    "#Create a `Rectangle` class that accepts two `Point` objects representing the bottom-left and\n",
    "#  top-right corners of the rectangle. The class should include a method called `area` that returns\n",
    "#  the area of the rectangle, assuming the coordinates are in the same coordinate system.\n",
    "\n",
    "#!Simple example:\n",
    "\n",
    "class Rectangle:\n",
    "    def __init__(self, bottom_left, top_right):\n",
    "        self.bottom_left = bottom_left\n",
    "        self.top_right = top_right\n",
    "\n",
    "    def area(self):\n",
    "        bl_lat, bl_lon = self.bottom_left\n",
    "        tr_lat, tr_lon = self.top_right\n",
    "        area = (tr_lat - bl_lat) * (tr_lon - bl_lon)\n",
    "        if area < 0:\n",
    "            area *= -1\n",
    "        else:\n",
    "            area\n",
    "        return area\n",
    "    \n",
    "Area_rec1 = Rectangle((0,0),(-10,10))\n",
    "Area_rec1.area()"
   ]
  },
  {
   "cell_type": "code",
   "execution_count": 19,
   "id": "4b46fb67",
   "metadata": {},
   "outputs": [
    {
     "name": "stdout",
     "output_type": "stream",
     "text": [
      "Coord_1: (5, 4), load = 5\n",
      "Coord_2: (-5, -4), load = 7\n"
     ]
    },
    {
     "data": {
      "text/plain": [
       "80"
      ]
     },
     "execution_count": 19,
     "metadata": {},
     "output_type": "execute_result"
    }
   ],
   "source": [
    "# Expanding using the previously created point class\n",
    "\n",
    "class Point:\n",
    "    def __init__(self,latitude, longitude, name=None, **Kwargs):\n",
    "        self.latitude = latitude \n",
    "        self.longitude = longitude\n",
    "        self.name = name\n",
    "\n",
    "        for key, value in Kwargs.items():\n",
    "            setattr(self, key, value)\n",
    "\n",
    "    def __str__(self):\n",
    "        base_str = f\"{self.name or 'Point'} ({self.latitude}, {self.longitude})\"\n",
    "        extra_attrs = \"\"\n",
    "        for key, value in self.__dict__.items():\n",
    "            if key not in ['latitude', 'longitude', 'name']:\n",
    "                extra_attrs += f\", {key} = {value}\"\n",
    "        return base_str + extra_attrs\n",
    "    \n",
    "    def simple_area(self, other_point):  \n",
    "        dx = other_point.latitude - self.latitude\n",
    "        dy = other_point.longitude -self.longitude\n",
    "        area = dx * dy\n",
    "        if area < 0:\n",
    "            area *= -1\n",
    "        else:\n",
    "            area\n",
    "        return area\n",
    "\n",
    "point1 = Point(5, 4, \"Coord_1:\", load = 5)\n",
    "point2 = Point(-5, -4,\"Coord_2:\", load = 7 )\n",
    "\n",
    "print(point1)\n",
    "print(point2)\n",
    "\n",
    "point1.simple_area(point2)\n",
    "        \n",
    "        \n"
   ]
  },
  {
   "cell_type": "code",
   "execution_count": null,
   "id": "550dbf50",
   "metadata": {},
   "outputs": [],
   "source": []
  },
  {
   "cell_type": "markdown",
   "id": "28",
   "metadata": {},
   "source": [
    "## Summary\n",
    "\n",
    "In this lecture, we introduced the concepts of functions and classes. Functions allow you to encapsulate code into reusable blocks, while classes help you represent complex data structures like geospatial points. By combining these, you can build modular, scalable geospatial tools that perform various tasks efficiently."
   ]
  }
 ],
 "metadata": {
  "kernelspec": {
   "display_name": "Python 3 (ipykernel)",
   "language": "python",
   "name": "python3"
  },
  "language_info": {
   "codemirror_mode": {
    "name": "ipython",
    "version": 3
   },
   "file_extension": ".py",
   "mimetype": "text/x-python",
   "name": "python",
   "nbconvert_exporter": "python",
   "pygments_lexer": "ipython3",
   "version": "3.11.9"
  }
 },
 "nbformat": 4,
 "nbformat_minor": 5
}
