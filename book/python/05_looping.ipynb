{
 "cells": [
  {
   "cell_type": "markdown",
   "id": "0",
   "metadata": {},
   "source": [
    "# Looping and Control Statements\n",
    "\n",
    "[![Open In Colab](https://colab.research.google.com/assets/colab-badge.svg)](https://colab.research.google.com/github/giswqs/geog-312/blob/main/book/python/05_looping.ipynb)\n",
    "\n",
    "## Overview\n",
    "\n",
    "This lecture introduces looping and control statements in Python, focusing on their applications in geospatial programming. Loops and control statements are essential tools for automating repetitive tasks, making decisions based on data conditions, and efficiently processing large geospatial datasets. By mastering these concepts, you will be able to handle complex geospatial analysis tasks with greater efficiency and precision.\n",
    "\n",
    "## Learning Objectives\n",
    "\n",
    "By the end of this lecture, you should be able to:\n",
    "\n",
    "- Understand and implement `for` loops to iterate over sequences such as lists and tuples.\n",
    "- Use `while` loops to perform tasks until a specific condition is met.\n",
    "- Apply control statements (`if`, `elif`, `else`) to execute different blocks of code based on data conditions.\n",
    "- Combine loops and control statements to filter, process, and analyze geospatial data.\n",
    "- Develop the ability to automate repetitive geospatial tasks, making your data processing workflows more efficient.\n",
    "\n",
    "## For Loops\n",
    "\n",
    "For loops allow you to iterate over a sequence (such as a list, tuple, or string) and execute a block of code for each item in the sequence. This is particularly useful in geospatial programming when you need to process multiple features or coordinates."
   ]
  },
  {
   "cell_type": "code",
   "execution_count": 2,
   "id": "2d963ccf",
   "metadata": {},
   "outputs": [],
   "source": [
    "coordinates = [\n",
    "    (35.6895, 139.6917),\n",
    "    (34.0522, -118.2437),\n",
    "    (51.5074, -0.1278),\n",
    "]"
   ]
  },
  {
   "cell_type": "code",
   "execution_count": 6,
   "id": "8e753a61",
   "metadata": {},
   "outputs": [
    {
     "name": "stdout",
     "output_type": "stream",
     "text": [
      "Start\n",
      "Processing 1 / 3\n",
      "35.6895 139.6917\n",
      "Processing 2 / 3\n",
      "34.0522 -118.2437\n",
      "This is in the west\n",
      "End\n"
     ]
    }
   ],
   "source": [
    "'' #? How to debug the code\n",
    "print(\"Start\")\n",
    "\n",
    "index = 1\n",
    "for lat, lon in coordinates:\n",
    "    print(f\"Processing {index} / {len(coordinates)}\")\n",
    "    print(lat, lon)\n",
    "    index += 1\n",
    "\n",
    "    if lon < 0 :  \n",
    "        print(\"This is in the west\")\n",
    "        break #! if we want to break the loop with a condition\n",
    "       #continue #! if we want to skip the rest of the loop and continue with the next iteration  \n",
    "\n",
    "print(\"End\")"
   ]
  },
  {
   "cell_type": "code",
   "execution_count": null,
   "id": "1",
   "metadata": {},
   "outputs": [],
   "source": [
    "coordinates = [\n",
    "    (35.6895, 139.6917),\n",
    "    (34.0522, -118.2437),\n",
    "    (51.5074, -0.1278),\n",
    "]  # List of tuples representing coordinates\n",
    "\n",
    "for lat, lon in coordinates:\n",
    "    print(f\"Latitude: {lat}, Longitude: {lon}\")"
   ]
  },
  {
   "cell_type": "markdown",
   "id": "2",
   "metadata": {},
   "source": [
    "Assuming you have a function to calculate distances, you can use a loop to compute distances from a reference point."
   ]
  },
  {
   "cell_type": "code",
   "execution_count": null,
   "id": "3",
   "metadata": {},
   "outputs": [],
   "source": [
    "def calculate_distance(lat1, lon1, lat2, lon2):\n",
    "    # Placeholder for distance calculation logic\n",
    "    return ((lat2 - lat1) ** 2 + (lon2 - lon1) ** 2) ** 0.5\n",
    "\n",
    "\n",
    "reference_point = (0, 0)  # Reference point (latitude, longitude)\n",
    "\n",
    "for lat, lon in coordinates:\n",
    "    distance = calculate_distance(reference_point[0], reference_point[1], lat, lon)\n",
    "    print(f\"Distance from {reference_point} to ({lat}, {lon}): {distance:.2f}\")"
   ]
  },
  {
   "cell_type": "code",
   "execution_count": 10,
   "id": "136d6034",
   "metadata": {},
   "outputs": [],
   "source": [
    "city = {\n",
    "\"name\" : \"New York City\",\n",
    "\"latitude\" : 40.7128,\n",
    "\"longitude\" : -74.0060,\n",
    "\"population\" : 8398748\n",
    "}"
   ]
  },
  {
   "cell_type": "code",
   "execution_count": 20,
   "id": "ec102fd6",
   "metadata": {},
   "outputs": [
    {
     "name": "stdout",
     "output_type": "stream",
     "text": [
      "dict_items([('name', 'New York City'), ('latitude', 40.7128), ('longitude', -74.006), ('population', 8398748)])\n",
      "<class 'dict_items'>\n"
     ]
    }
   ],
   "source": [
    "dict_items = city.items()\n",
    "print(dict_items)\n",
    "\n",
    "print(type(dict_items))"
   ]
  },
  {
   "cell_type": "code",
   "execution_count": 11,
   "id": "3b8e0b7d",
   "metadata": {},
   "outputs": [
    {
     "name": "stdout",
     "output_type": "stream",
     "text": [
      "name\n",
      "latitude\n",
      "longitude\n",
      "population\n"
     ]
    }
   ],
   "source": [
    "for item in city:\n",
    "    print(item)"
   ]
  },
  {
   "cell_type": "code",
   "execution_count": 12,
   "id": "85fe428d",
   "metadata": {},
   "outputs": [
    {
     "data": {
      "text/plain": [
       "dict_keys(['name', 'latitude', 'longitude', 'population'])"
      ]
     },
     "execution_count": 12,
     "metadata": {},
     "output_type": "execute_result"
    }
   ],
   "source": [
    "city.keys()"
   ]
  },
  {
   "cell_type": "code",
   "execution_count": 13,
   "id": "a220e593",
   "metadata": {},
   "outputs": [
    {
     "data": {
      "text/plain": [
       "dict_values(['New York City', 40.7128, -74.006, 8398748])"
      ]
     },
     "execution_count": 13,
     "metadata": {},
     "output_type": "execute_result"
    }
   ],
   "source": [
    "city.values()"
   ]
  },
  {
   "cell_type": "code",
   "execution_count": 23,
   "id": "6140dafd",
   "metadata": {},
   "outputs": [
    {
     "name": "stdout",
     "output_type": "stream",
     "text": [
      "name : New York City\n",
      "latitude : 40.7128\n",
      "longitude : -74.006\n",
      "population : 8398748\n"
     ]
    }
   ],
   "source": [
    "for key, value in city.items():\n",
    "    print(f\"{key} : {value}\")"
   ]
  },
  {
   "cell_type": "markdown",
   "id": "4",
   "metadata": {},
   "source": [
    "## While Loops\n",
    "\n",
    "While loops continue to execute a block of code as long as a specified condition is true. They are useful when the number of iterations is not known beforehand, such as when processing data until a certain condition is met."
   ]
  },
  {
   "cell_type": "code",
   "execution_count": 24,
   "id": "3d3f9916",
   "metadata": {},
   "outputs": [],
   "source": [
    "coordinates = [\n",
    "    (35.6895, 139.6917),\n",
    "    (34.0522, -118.2437),\n",
    "    (51.5074, -0.1278),\n",
    "]"
   ]
  },
  {
   "cell_type": "code",
   "execution_count": 25,
   "id": "5",
   "metadata": {},
   "outputs": [
    {
     "name": "stdout",
     "output_type": "stream",
     "text": [
      "Processing coordinate: (35.6895, 139.6917)\n",
      "Processing coordinate: (34.0522, -118.2437)\n",
      "Processing coordinate: (51.5074, -0.1278)\n"
     ]
    }
   ],
   "source": [
    "counter = 0\n",
    "while counter < len(coordinates):\n",
    "    lat, lon = coordinates[counter]\n",
    "    print(f\"Processing coordinate: ({lat}, {lon})\")\n",
    "    counter += 1"
   ]
  },
  {
   "cell_type": "code",
   "execution_count": 28,
   "id": "a1bda62f",
   "metadata": {},
   "outputs": [
    {
     "name": "stdout",
     "output_type": "stream",
     "text": [
      "Running 2 times\n",
      "Running 4 times\n",
      "Running 6 times\n",
      "Running 8 times\n",
      "Running 10 times\n"
     ]
    }
   ],
   "source": [
    "counter = 0\n",
    "\n",
    "while True:\n",
    "    counter += 1\n",
    "   \n",
    "    if counter % 2 == 0: #even numbers e.g 2,4,6,8,10 \n",
    "       print(f\"Running {counter} times\")\n",
    "    if counter  >= 10:\n",
    "        break         "
   ]
  },
  {
   "cell_type": "markdown",
   "id": "6",
   "metadata": {},
   "source": [
    "## Control Statements: if, elif, else\n",
    "\n",
    "Control statements allow you to execute different blocks of code based on certain conditions. In geospatial programming, this is useful for handling different types of data or conditions."
   ]
  },
  {
   "cell_type": "code",
   "execution_count": null,
   "id": "7",
   "metadata": {},
   "outputs": [],
   "source": [
    "for lat, lon in coordinates:\n",
    "    if lat > 0:\n",
    "        print(f\"{lat} is in the Northern Hemisphere\")\n",
    "    elif lat < 0:\n",
    "        print(f\"{lat} is in the Southern Hemisphere\")\n",
    "    else:\n",
    "        print(f\"{lat} is near the equator\")"
   ]
  },
  {
   "cell_type": "markdown",
   "id": "8",
   "metadata": {},
   "source": [
    "You can further categorize based on longitude:"
   ]
  },
  {
   "cell_type": "code",
   "execution_count": null,
   "id": "9",
   "metadata": {},
   "outputs": [],
   "source": [
    "\"\"\"Checking both latitude and longitude\"\"\"\n",
    "for lat, lon in coordinates:\n",
    "    if lat > 0:\n",
    "        hemisphere = \"Northern\"\n",
    "    else:\n",
    "        hemisphere = \"Southern\"\n",
    "\n",
    "    if lon > 0:\n",
    "        direction = \"Eastern\"\n",
    "    else:\n",
    "        direction = \"Western\"\n",
    "\n",
    "    print(\n",
    "        f\"The coordinate ({lat}, {lon}) is in the {hemisphere} Hemisphere and {direction} Hemisphere.\"\n",
    "    )"
   ]
  },
  {
   "cell_type": "markdown",
   "id": "10",
   "metadata": {},
   "source": [
    "## Combining Loops and Control Statements\n",
    "\n",
    "You can combine loops and control statements to perform more complex operations, such as filtering data or applying conditions during iteration."
   ]
  },
  {
   "cell_type": "code",
   "execution_count": null,
   "id": "11",
   "metadata": {},
   "outputs": [],
   "source": [
    "filtered_coordinates = []\n",
    "for lat, lon in coordinates:\n",
    "    if lon > 0:\n",
    "        filtered_coordinates.append((lat, lon))\n",
    "print(f\"Filtered coordinates (only with positive longitude): {filtered_coordinates}\")"
   ]
  },
  {
   "cell_type": "code",
   "execution_count": null,
   "id": "12",
   "metadata": {},
   "outputs": [],
   "source": [
    "southern_count = 0\n",
    "for lat, lon in coordinates:\n",
    "    if lat < 0:\n",
    "        southern_count += 1\n",
    "print(f\"Number of coordinates in the Southern Hemisphere: {southern_count}\")"
   ]
  },
  {
   "cell_type": "markdown",
   "id": "13",
   "metadata": {},
   "source": [
    "## Exercises\n",
    "\n",
    "1. Create a list of cities with their coordinates. Write a for loop to print out only the cities that are in the Northern Hemisphere.\n",
    "2. Write a while loop that continues to print the coordinates in a list until a coordinate with a latitude less than 0 is found.\n",
    "3. Create a for loop that iterates through a list of coordinates and prints whether each coordinate is in the Eastern or Western Hemisphere based on the longitude.\n",
    "4. Combine a for loop and if statements to count how many coordinates in a list are located in the Southern Hemisphere.\n",
    "5. Write a program that generates random coordinates (latitude and longitude) and prints them until a coordinate with both latitude and longitude greater than 100 is generated."
   ]
  },
  {
   "cell_type": "code",
   "execution_count": null,
   "id": "14",
   "metadata": {},
   "outputs": [],
   "source": [
    "latam_cities = [(\"Bogota\", (4.7110, -74.0721)), (\"Buenos Aires\", (-34.6037, -58.3816)), (\"Lima\", (-12.0464, -77.0428))]\n",
    "print(f\"LATAM Cities:{latam_cities}\")   "
   ]
  },
  {
   "cell_type": "code",
   "execution_count": null,
   "id": "29041beb",
   "metadata": {},
   "outputs": [],
   "source": [
    "\"#getting values out of the list tuple of tuples nested\"\n",
    "for city, (lat, lon) in latam_cities:\n",
    "    if lat > 0:\n",
    "        print(city)"
   ]
  },
  {
   "cell_type": "code",
   "execution_count": null,
   "id": "3e0dbeb8",
   "metadata": {},
   "outputs": [],
   "source": [
    "'' # ! This line applies for the one below otherwise run \n",
    "latam_cities_1t = [(\"Bogota\", 4.7110, -74.0721), (\"Buenos Aires\", -34.6037, -58.3816), (\"Lima\", -12.0464, -77.0428)]\n",
    "print(f\"LATAM Cities:{latam_cities_1t}\")  "
   ]
  },
  {
   "cell_type": "code",
   "execution_count": null,
   "id": "13f7a7e0",
   "metadata": {},
   "outputs": [],
   "source": [
    "\"Otehrway to get the list of cities with coordinates 3 elements in a tuple\"\n",
    "for city, lat, lon in latam_cities_1t:\n",
    "    if lat > 0:\n",
    "        print(city)"
   ]
  },
  {
   "cell_type": "code",
   "execution_count": null,
   "id": "32c84373",
   "metadata": {},
   "outputs": [],
   "source": [
    "#Using while\n",
    "latam_cities = [(\"Bogota\", (4.7110, -74.0721)), (\"Buenos Aires\", (-34.6037, -58.3816)), (\"Lima\", (-12.0464, -77.0428))]\n",
    "print(f\"LATAM Cities:{latam_cities} \\n\")   \n",
    "n = 0\n",
    "\n",
    "while n < len(latam_cities):\n",
    "    city, (lat, lon) = latam_cities[n]\n",
    "    if lat > 0:\n",
    "        print(f\"City->{city} ({lat, {lon}})\")\n",
    "    n += 1\n",
    "    "
   ]
  },
  {
   "cell_type": "code",
   "execution_count": null,
   "id": "ef01486c",
   "metadata": {},
   "outputs": [],
   "source": [
    "#Knowing which cities are E or W\n",
    "\n",
    "for city, (lat, lon) in latam_cities:\n",
    "    if lon < 0 :\n",
    "        print(f\"{city} is on the West hemisphere\")\n",
    "    elif lon > 0 :\n",
    "        print(f\"{city} is on the East hemisphere\")\n",
    "    else:\n",
    "        print(f\"{city} is on the equator\")\n"
   ]
  },
  {
   "cell_type": "code",
   "execution_count": null,
   "id": "7db7a260",
   "metadata": {},
   "outputs": [],
   "source": [
    "# Counting how many coordinates are in teh South Hemisphere\n",
    "\n",
    "count = 0\n",
    "n = 0\n",
    "\n",
    "while n < len(latam_cities):\n",
    "    city, (lat, lon) = latam_cities[n]\n",
    "    if lat < 0:\n",
    "        count +=1\n",
    "    n += 1\n",
    "\n",
    "print(f\"Number of coordinates in the South Hemisphere: {count}\")"
   ]
  },
  {
   "cell_type": "code",
   "execution_count": null,
   "id": "ce988a32",
   "metadata": {},
   "outputs": [],
   "source": [
    "# program that generates random coordinates (latitude and longitude) and prints them until \n",
    "# a coordinate with both latitude and longitude greater than 100 is generated.\n",
    "\n",
    "import random\n",
    "\n",
    "n = 0\n",
    "while n == 0:\n",
    "    lat = random.uniform(-90,90) \n",
    "    lon = random.uniform(-180, 180)\n",
    "    \n",
    "    if lon < 100:\n",
    "        print(f\"({lat:.2f},{lon:.2f})\")\n",
    "    \n",
    "    else:\n",
    "        n += 1\n",
    "\n"
   ]
  },
  {
   "cell_type": "markdown",
   "id": "15",
   "metadata": {},
   "source": [
    "## Summary\n",
    "\n",
    "Loops and control statements are fundamental tools in geospatial programming. They allow you to process and analyze geographic data efficiently by automating repetitive tasks and applying logic based on data conditions. Practice these concepts by applying them to your geospatial datasets and analyses."
   ]
  },
  {
   "cell_type": "markdown",
   "id": "772c8a0d",
   "metadata": {},
   "source": []
  }
 ],
 "metadata": {
  "kernelspec": {
   "display_name": "Python 3",
   "language": "python",
   "name": "python3"
  },
  "language_info": {
   "codemirror_mode": {
    "name": "ipython",
    "version": 3
   },
   "file_extension": ".py",
   "mimetype": "text/x-python",
   "name": "python",
   "nbconvert_exporter": "python",
   "pygments_lexer": "ipython3",
   "version": "3.11.9"
  }
 },
 "nbformat": 4,
 "nbformat_minor": 5
}
