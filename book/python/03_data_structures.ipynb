{
 "cells": [
  {
   "cell_type": "markdown",
   "id": "0",
   "metadata": {},
   "source": [
    "# Data Structures\n",
    "\n",
    "[![Open In Colab](https://colab.research.google.com/assets/colab-badge.svg)](https://colab.research.google.com/github/giswqs/geog-312/blob/main/book/python/03_data_structures.ipynb)\n",
    "\n",
    "## Overview\n",
    "\n",
    "In this lecture, we will explore the fundamental Python data structures: Tuples, Lists, Sets, and Dictionaries. These data structures are essential tools in geospatial programming, enabling you to efficiently store, manage, and manipulate various types of data. By mastering these structures, you will be able to handle complex geospatial datasets with ease, paving the way for more advanced analysis and processing tasks.\n",
    "\n",
    "## Learning Objectives\n",
    "\n",
    "By the end of this lecture, you should be able to:\n",
    "\n",
    "- Understand the characteristics and use cases of Python tuples, lists, sets, and dictionaries.\n",
    "- Apply these data structures to store and manipulate geospatial data, such as coordinates, paths, and attribute information.\n",
    "- Differentiate between mutable and immutable data structures and choose the appropriate structure for different geospatial tasks.\n",
    "- Perform common operations on these data structures, including indexing, slicing, adding/removing elements, and updating values.\n",
    "- Utilize dictionaries to manage geospatial feature attributes and understand the importance of key-value pairs in geospatial data management."
   ]
  },
  {
   "cell_type": "markdown",
   "id": "1",
   "metadata": {},
   "source": [
    "## Tuples\n",
    "\n",
    "Tuples are immutable sequences, meaning that once a tuple is created, its elements cannot be changed. Tuples are useful for storing fixed collections of items.\n",
    "\n",
    "For example, a tuple can be used to store the coordinates of a geographic point (latitude, longitude)."
   ]
  },
  {
   "cell_type": "code",
   "execution_count": 1,
   "id": "2",
   "metadata": {},
   "outputs": [],
   "source": [
    "point = (\n",
    "    35.6895,\n",
    "    139.6917,\n",
    ")  # Tuple representing a geographic point (latitude, longitude)"
   ]
  },
  {
   "cell_type": "markdown",
   "id": "3",
   "metadata": {},
   "source": [
    "You can access elements in a tuple using indexing:"
   ]
  },
  {
   "cell_type": "code",
   "execution_count": null,
   "id": "4",
   "metadata": {},
   "outputs": [],
   "source": [
    "latitude = point[0]\n",
    "longitude = point[1]\n",
    "print(f\"Latitude: {latitude}, Longitude: {longitude}\")"
   ]
  },
  {
   "cell_type": "markdown",
   "id": "5",
   "metadata": {},
   "source": [
    "## Lists\n",
    "\n",
    "Lists are ordered, mutable sequences, meaning you can change, add, or remove elements after the list has been created. Lists are very flexible and can store multiple types of data, making them useful for various geospatial tasks.\n",
    "\n",
    "For example, you can store a list of coordinates representing a path or boundary."
   ]
  },
  {
   "cell_type": "code",
   "execution_count": 10,
   "id": "6",
   "metadata": {},
   "outputs": [],
   "source": [
    "path = [\n",
    "    (35.6895, 139.6917),\n",
    "    (34.0522, -118.2437),\n",
    "    (51.5074, -0.1278),\n",
    "]  # List of tuples representing a path\n",
    "\n",
    "path_copy = path[:] #adding copy to path that does not change the original path "
   ]
  },
  {
   "cell_type": "markdown",
   "id": "7",
   "metadata": {},
   "source": [
    "You can add a new point to the path:"
   ]
  },
  {
   "cell_type": "code",
   "execution_count": 9,
   "id": "8",
   "metadata": {},
   "outputs": [
    {
     "name": "stdout",
     "output_type": "stream",
     "text": [
      "Updated path: [(35.6895, 139.6917), (34.0522, -118.2437), (51.5074, -0.1278), (48.8566, 2.3522)]\n"
     ]
    }
   ],
   "source": [
    "path.append((48.8566, 2.3522))  # Adding Paris to the path\n",
    "print(\"Updated path:\", path)"
   ]
  },
  {
   "cell_type": "code",
   "execution_count": 10,
   "id": "073a3de1",
   "metadata": {},
   "outputs": [
    {
     "name": "stdout",
     "output_type": "stream",
     "text": [
      "Updated path: [(35.6895, 139.6917), (34.0522, -118.2437), (51.5074, -0.1278), (48.8566, 2.3522), (4.711, -74.0721)]\n"
     ]
    }
   ],
   "source": [
    "path.append((4.7110, -74.0721))  #adding Bogota to the path\n",
    "print(\"Updated path:\", path)"
   ]
  },
  {
   "cell_type": "markdown",
   "id": "9",
   "metadata": {},
   "source": [
    "Lists allow you to perform various operations such as slicing, which lets you access a subset of the list:"
   ]
  },
  {
   "cell_type": "code",
   "execution_count": 11,
   "id": "10",
   "metadata": {},
   "outputs": [
    {
     "name": "stdout",
     "output_type": "stream",
     "text": [
      "Sub-path: [(35.6895, 139.6917), (34.0522, -118.2437)]\n"
     ]
    }
   ],
   "source": [
    "sub_path = path[:2]  # Slicing the first two points from the path\n",
    "print(\"Sub-path:\", sub_path)"
   ]
  },
  {
   "cell_type": "code",
   "execution_count": 11,
   "id": "3ececf9f",
   "metadata": {},
   "outputs": [
    {
     "data": {
      "text/plain": [
       "[(35.6895, 139.6917),\n",
       " (34.0522, -118.2437),\n",
       " (51.5074, -0.1278),\n",
       " 'Cities if the world']"
      ]
     },
     "execution_count": 11,
     "metadata": {},
     "output_type": "execute_result"
    }
   ],
   "source": [
    "# Making other operations with the list\n",
    "path_copy.append(\"Cities if the world\")\n",
    "path_copy"
   ]
  },
  {
   "cell_type": "code",
   "execution_count": 12,
   "id": "18db4400",
   "metadata": {},
   "outputs": [
    {
     "data": {
      "text/plain": [
       "['Cities', 'if', 'the', 'world']"
      ]
     },
     "execution_count": 12,
     "metadata": {},
     "output_type": "execute_result"
    }
   ],
   "source": [
    "path_copy[3].split()"
   ]
  },
  {
   "cell_type": "code",
   "execution_count": 14,
   "id": "c8fcd84c",
   "metadata": {},
   "outputs": [
    {
     "data": {
      "text/plain": [
       "'Cities'"
      ]
     },
     "execution_count": 14,
     "metadata": {},
     "output_type": "execute_result"
    }
   ],
   "source": [
    "path_copy[3].split()[0] "
   ]
  },
  {
   "cell_type": "markdown",
   "id": "11",
   "metadata": {},
   "source": [
    "## Sets\n",
    "\n",
    "Sets are unordered collections of unique elements. Sets are useful when you need to store a collection of items but want to eliminate duplicates.\n",
    "\n",
    "For example, you might want to store a set of unique geographic regions visited during a survey."
   ]
  },
  {
   "cell_type": "code",
   "execution_count": 20,
   "id": "12",
   "metadata": {},
   "outputs": [
    {
     "name": "stdout",
     "output_type": "stream",
     "text": [
      "1-Set of regions: {'Asia', 'Europe', 'North America'}\n",
      "2-Type set_regions: <class 'set'>\n"
     ]
    }
   ],
   "source": [
    "list_regions = [\"North America\", \"Europe\", \"Asia\"]  # Set of regions\n",
    "set_regions = set(list_regions)\n",
    "print(\"1-Set of regions:\", set_regions)\n",
    "print(\"2-Type set_regions:\", type(set_regions))"
   ]
  },
  {
   "cell_type": "markdown",
   "id": "13",
   "metadata": {},
   "source": [
    "You can add a new region to the set:"
   ]
  },
  {
   "cell_type": "code",
   "execution_count": 21,
   "id": "14",
   "metadata": {},
   "outputs": [
    {
     "name": "stdout",
     "output_type": "stream",
     "text": [
      "Updated regions: {'Asia', 'Europe', 'Africa', 'North America'}\n"
     ]
    }
   ],
   "source": [
    "set_regions.add(\"Africa\")\n",
    "print(\"Updated regions:\", set_regions)"
   ]
  },
  {
   "cell_type": "code",
   "execution_count": 22,
   "id": "df71ccfa",
   "metadata": {},
   "outputs": [
    {
     "name": "stdout",
     "output_type": "stream",
     "text": [
      "Updated Set: {'Africa', 'North America', 'Europe', 'South_america', 'Asia'}\n"
     ]
    }
   ],
   "source": [
    "set_regions.add(\"South_america\")\n",
    "print(\"Updated Set:\", set_regions)"
   ]
  },
  {
   "cell_type": "markdown",
   "id": "15",
   "metadata": {},
   "source": [
    "Since sets do not allow duplicates, adding an existing region will not change the set:"
   ]
  },
  {
   "cell_type": "code",
   "execution_count": 23,
   "id": "16",
   "metadata": {},
   "outputs": [
    {
     "name": "stdout",
     "output_type": "stream",
     "text": [
      "Regions after attempting to add duplicate: {'Africa', 'North America', 'Europe', 'South_america', 'Asia'}\n"
     ]
    }
   ],
   "source": [
    "set_regions.add(\"Europe\")  # Attempting to add a duplicate element\n",
    "print(\"Regions after attempting to add duplicate:\", set_regions)"
   ]
  },
  {
   "cell_type": "code",
   "execution_count": 26,
   "id": "211945b3",
   "metadata": {},
   "outputs": [
    {
     "name": "stdout",
     "output_type": "stream",
     "text": [
      "['Africa', 'North America', 'Europe', 'South_america', 'Asia']\n"
     ]
    },
    {
     "data": {
      "text/plain": [
       "['Africa', 'North America', 'Europe', 'South_america', 'Asia', 'Europe']"
      ]
     },
     "execution_count": 26,
     "metadata": {},
     "output_type": "execute_result"
    }
   ],
   "source": [
    "#Transforming set to list\n",
    "regions_list = list(set_regions)\n",
    "print(regions_list)\n",
    "regions_list.append('Europe')\n",
    "regions_list"
   ]
  },
  {
   "cell_type": "code",
   "execution_count": 30,
   "id": "1034c440",
   "metadata": {},
   "outputs": [
    {
     "name": "stdout",
     "output_type": "stream",
     "text": [
      "{'Africa', 'North America', 'Europe', 'South_america', 'Asia'}\n"
     ]
    }
   ],
   "source": [
    "#removing duplicates\n",
    "\n",
    "new_regions=set(regions_list)\n",
    "print(new_regions)"
   ]
  },
  {
   "cell_type": "markdown",
   "id": "17",
   "metadata": {},
   "source": [
    "## Dictionaries\n",
    "\n",
    "Dictionaries are collections of key-value pairs, where each key is unique. Dictionaries are extremely useful for storing data that is associated with specific identifiers, such as attribute data for geographic features.\n",
    "\n",
    "For example, you can use a dictionary to store attributes of a geospatial feature, such as a city."
   ]
  },
  {
   "cell_type": "code",
   "execution_count": 32,
   "id": "18",
   "metadata": {},
   "outputs": [],
   "source": [
    "city_attributes = {\n",
    "    \"name\": \"Tokyo\",\n",
    "    \"population\": 13929286,\n",
    "    \"coordinates\": (35.6895, 139.6917),\n",
    "}  # Dictionary storing attributes of a city"
   ]
  },
  {
   "cell_type": "markdown",
   "id": "19",
   "metadata": {},
   "source": [
    "You can access the values associated with specific keys:"
   ]
  },
  {
   "cell_type": "code",
   "execution_count": null,
   "id": "20",
   "metadata": {},
   "outputs": [],
   "source": [
    "city_name = city_attributes[\"name\"]\n",
    "city_population = city_attributes[\"population\"]\n",
    "print(f\"City: {city_name}, Population: {city_population}\")"
   ]
  },
  {
   "cell_type": "markdown",
   "id": "21",
   "metadata": {},
   "source": [
    "You can also add or update key-value pairs in a dictionary:"
   ]
  },
  {
   "cell_type": "code",
   "execution_count": null,
   "id": "22",
   "metadata": {},
   "outputs": [],
   "source": [
    "city_attributes[\"area_km2\"] = 2191  # Adding the area of the city in square kilometers\n",
    "print(\"Updated city attributes:\", city_attributes)"
   ]
  },
  {
   "cell_type": "code",
   "execution_count": 35,
   "id": "24244d28",
   "metadata": {},
   "outputs": [
    {
     "data": {
      "text/plain": [
       "{'name': 'TOKYO', 'population': 13929286, 'coordinates': (35.6895, 139.6917)}"
      ]
     },
     "execution_count": 35,
     "metadata": {},
     "output_type": "execute_result"
    }
   ],
   "source": [
    "#updating the type of leter used in name\n",
    "city_attributes[\"name\"] = city_attributes[\"name\"].upper()\n",
    "\n",
    "city_attributes"
   ]
  },
  {
   "cell_type": "markdown",
   "id": "23",
   "metadata": {},
   "source": [
    "## Exercises\n",
    "\n",
    "Create a dictionary to store attributes of a geographic feature (e.g., a river or mountain). Include keys for the name, length, and location of the feature. Then, add an additional attribute (e.g., the source of the river or the height of the mountain) and print the dictionary."
   ]
  },
  {
   "cell_type": "code",
   "execution_count": 38,
   "id": "24",
   "metadata": {},
   "outputs": [
    {
     "data": {
      "text/plain": [
       "{'level1': {'level2': {'level3': {'level4': {'key1': 'value1',\n",
       "     'key2': 'value2',\n",
       "     'key3': {'subkey1': 'subvalue1',\n",
       "      'subkey2': {'subsubkey1': 'subsubvalue1',\n",
       "       'subsubkey2': 'subsubvalue2'}}},\n",
       "    'another_level4': {'key4': 'value4', 'key5': 'value5'}},\n",
       "   'another_level3': {'key6': 'value6',\n",
       "    'key7': {'subkey3': 'subvalue3', 'subkey4': 'subvalue4'}}},\n",
       "  'another_level2': {'key8': 'value8',\n",
       "   'key9': {'subkey5': 'subvalue5',\n",
       "    'subkey6': {'subsubkey3': 'subsubvalue3', 'subsubkey4': 'subsubvalue4'}}}},\n",
       " 'another_level1': {'key10': 'value10',\n",
       "  'key11': {'subkey7': 'subvalue7',\n",
       "   'subkey8': {'subsubkey5': 'subsubvalue5', 'subsubkey6': 'subsubvalue6'}}}}"
      ]
     },
     "execution_count": 38,
     "metadata": {},
     "output_type": "execute_result"
    }
   ],
   "source": [
    "# Tcomplicated nested dictionary\n",
    "\n",
    "nested_dict = {\n",
    "    'level1': {\n",
    "        'level2': {\n",
    "            'level3': {\n",
    "                'level4': {\n",
    "                    'key1': 'value1',\n",
    "                    'key2': 'value2',\n",
    "                    'key3': {\n",
    "                        'subkey1': 'subvalue1',\n",
    "                        'subkey2': {\n",
    "                            'subsubkey1': 'subsubvalue1',\n",
    "                            'subsubkey2': 'subsubvalue2'\n",
    "                        }\n",
    "                    }\n",
    "                },\n",
    "                'another_level4': {\n",
    "                    'key4': 'value4',\n",
    "                    'key5': 'value5'\n",
    "                }\n",
    "            },\n",
    "            'another_level3': {\n",
    "                'key6': 'value6',\n",
    "                'key7': {\n",
    "                    'subkey3': 'subvalue3',\n",
    "                    'subkey4': 'subvalue4'\n",
    "                }\n",
    "            }\n",
    "        },\n",
    "        'another_level2': {\n",
    "            'key8': 'value8',\n",
    "            'key9': {\n",
    "                'subkey5': 'subvalue5',\n",
    "                'subkey6': {\n",
    "                    'subsubkey3': 'subsubvalue3',\n",
    "                    'subsubkey4': 'subsubvalue4'\n",
    "                }\n",
    "            }\n",
    "        }\n",
    "    },\n",
    "    'another_level1': {\n",
    "        'key10': 'value10',\n",
    "        'key11': {\n",
    "            'subkey7': 'subvalue7',\n",
    "            'subkey8': {\n",
    "                'subsubkey5': 'subsubvalue5',\n",
    "                'subsubkey6': 'subsubvalue6'\n",
    "            }\n",
    "        }\n",
    "    }\n",
    "}\n",
    "\n",
    "nested_dict"
   ]
  },
  {
   "cell_type": "code",
   "execution_count": 42,
   "id": "19e9d11c",
   "metadata": {},
   "outputs": [
    {
     "data": {
      "text/plain": [
       "'subvalue1'"
      ]
     },
     "execution_count": 42,
     "metadata": {},
     "output_type": "execute_result"
    }
   ],
   "source": [
    "nested_dict['level1']['level2']['level3']['level4']['key3']['subkey1']"
   ]
  },
  {
   "cell_type": "markdown",
   "id": "25",
   "metadata": {},
   "source": [
    "## Conclusion\n",
    "\n",
    "Understanding and utilizing Python's data structures such as tuples, lists, sets, and dictionaries are fundamental skills in geospatial programming. These structures provide the flexibility and functionality required to manage and manipulate spatial data effectively.\n",
    "\n",
    "Continue exploring these data structures by applying them to your geospatial projects and analyses."
   ]
  }
 ],
 "metadata": {
  "kernelspec": {
   "display_name": "Python 3",
   "language": "python",
   "name": "python3"
  },
  "language_info": {
   "codemirror_mode": {
    "name": "ipython",
    "version": 3
   },
   "file_extension": ".py",
   "mimetype": "text/x-python",
   "name": "python",
   "nbconvert_exporter": "python",
   "pygments_lexer": "ipython3",
   "version": "3.11.9"
  }
 },
 "nbformat": 4,
 "nbformat_minor": 5
}
