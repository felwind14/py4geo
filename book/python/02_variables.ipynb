{
 "cells": [
  {
   "cell_type": "markdown",
   "id": "0",
   "metadata": {},
   "source": [
    "# Variables and Data Types\n",
    "\n",
    "## Introduction\n",
    "\n",
    "Welcome to this introductory lesson on Python variables and data types in a geospatial context. This notebook will guide you through the basics of Python, which are essential for geospatial analysis."
   ]
  },
  {
   "cell_type": "markdown",
   "id": "1",
   "metadata": {},
   "source": [
    "## Variables in Python\n",
    "\n",
    "In Python, a variable is a symbolic name that is a reference or pointer to an object. Once an object is assigned to a variable, you can refer to that object by the variable name.\n",
    "\n",
    "Let's start by creating a simple variable that represents the number of spatial points in a dataset."
   ]
  },
  {
   "cell_type": "code",
   "execution_count": null,
   "id": "2",
   "metadata": {},
   "outputs": [],
   "source": [
    "num_points = 120\n",
    "\n",
    "add = 2"
   ]
  },
  {
   "cell_type": "markdown",
   "id": "3",
   "metadata": {},
   "source": [
    "This variable `num_points` now holds the integer value 120, which we can use in our calculations or logic.\n",
    "\n",
    "To view the value of the variable, we can use the `print()` function."
   ]
  },
  {
   "cell_type": "code",
   "execution_count": null,
   "id": "4",
   "metadata": {},
   "outputs": [],
   "source": [
    "print(num_points)"
   ]
  },
  {
   "cell_type": "markdown",
   "id": "5",
   "metadata": {},
   "source": [
    "## Data Types\n",
    "\n",
    "Python supports various data types, which are essential to understand before working with geospatial data. The most common data types include:\n",
    "\n",
    "**a) Integers (int):** These are whole numbers, e.g., 1, 120, -5"
   ]
  },
  {
   "cell_type": "code",
   "execution_count": null,
   "id": "6",
   "metadata": {},
   "outputs": [],
   "source": [
    "num_features = 500  # Represents the number of features in a geospatial dataset"
   ]
  },
  {
   "cell_type": "markdown",
   "id": "7",
   "metadata": {},
   "source": [
    "**b) Floating-point numbers (float):** These are numbers with a decimal point, e.g., 3.14, -0.001, 100.0"
   ]
  },
  {
   "cell_type": "code",
   "execution_count": null,
   "id": "8",
   "metadata": {},
   "outputs": [],
   "source": [
    "latitude = 35.6895  # Represents the latitude of a point on Earth's surface\n",
    "longitude = 139.6917"
   ]
  },
  {
   "cell_type": "markdown",
   "id": "9",
   "metadata": {},
   "source": [
    "**c) Strings (str):** Strings are sequences of characters, e.g., \"Hello\", \"Geospatial Data\", \"Lat/Long\""
   ]
  },
  {
   "cell_type": "code",
   "execution_count": null,
   "id": "10",
   "metadata": {},
   "outputs": [],
   "source": [
    "coordinate_system = \"WGS 84\"  # Represents a commonly used coordinate system"
   ]
  },
  {
   "cell_type": "markdown",
   "id": "11",
   "metadata": {},
   "source": [
    "**d) Booleans (bool):** Booleans represent one of two values: True or False"
   ]
  },
  {
   "cell_type": "code",
   "execution_count": null,
   "id": "12",
   "metadata": {},
   "outputs": [],
   "source": [
    "is_georeferenced = True  # Represents whether a dataset is georeferenced or not"
   ]
  },
  {
   "cell_type": "markdown",
   "id": "13",
   "metadata": {},
   "source": [
    "**e) Lists:** Lists are ordered collections of items, which can be of any data type."
   ]
  },
  {
   "cell_type": "code",
   "execution_count": null,
   "id": "14",
   "metadata": {},
   "outputs": [],
   "source": [
    "coordinates = [\n",
    "    35.6895,\n",
    "    139.6917,\n",
    "]  # A list representing latitude and longitude of a point\n"
   ]
  },
  {
   "cell_type": "markdown",
   "id": "15",
   "metadata": {},
   "source": [
    "**f) Dictionaries (dict):** Dictionaries are collections of key-value pairs."
   ]
  },
  {
   "cell_type": "code",
   "execution_count": null,
   "id": "16",
   "metadata": {},
   "outputs": [],
   "source": [
    "feature_attributes = {\n",
    "    \"name\": \"Mount Fuji\",\n",
    "    \"height_meters\": 3776,\n",
    "    \"type\": \"Stratovolcano\",\n",
    "    \"location\": [35.3606, 138.7274],\n",
    "}"
   ]
  },
  {
   "cell_type": "markdown",
   "id": "17",
   "metadata": {},
   "source": [
    "## Working with Variables and Data Types\n",
    "\n",
    "Now, let's do some basic operations with these variables.\n",
    "\n",
    "Adding a constant to the number of features:"
   ]
  },
  {
   "cell_type": "code",
   "execution_count": null,
   "id": "18",
   "metadata": {},
   "outputs": [],
   "source": [
    "num_features += 20\n",
    "# this the same as num_features = num_features +20\n",
    "print(\"Updated number of features:\", num_features)"
   ]
  },
  {
   "cell_type": "markdown",
   "id": "19",
   "metadata": {},
   "source": [
    "Converting latitude from degrees to radians (required for some geospatial calculations):"
   ]
  },
  {
   "cell_type": "code",
   "execution_count": null,
   "id": "20",
   "metadata": {},
   "outputs": [],
   "source": [
    "import math\n",
    "\n",
    "\n",
    "latitude_radians = math.radians(latitude)\n",
    "longitude_radians = math.radians(longitude)\n",
    "print(\"Latitude in radians:\", latitude_radians)\n",
    "print(\"Longitude in radians:\", longitude_radians)"
   ]
  },
  {
   "cell_type": "markdown",
   "id": "21",
   "metadata": {},
   "source": [
    "Adding new coordinates to the list:"
   ]
  },
  {
   "cell_type": "code",
   "execution_count": null,
   "id": "22",
   "metadata": {},
   "outputs": [],
   "source": [
    "coordinates.append(34.0522)  # Adding latitude of Los Angeles\n",
    "coordinates.append(-118.2437)  # Adding longitude of Los Angeles\n",
    "print(\"Updated coordinates:\", coordinates)\n",
    "print()"
   ]
  },
  {
   "cell_type": "markdown",
   "id": "23",
   "metadata": {},
   "source": [
    "Accessing dictionary elements:"
   ]
  },
  {
   "cell_type": "code",
   "execution_count": null,
   "id": "24",
   "metadata": {},
   "outputs": [],
   "source": [
    "mount_fuji_name = feature_attributes[\"name\"]\n",
    "mount_fuji_height = feature_attributes[\"height_meters\"]\n",
    "print(f\"{mount_fuji_name} is {mount_fuji_height} meters high.\")"
   ]
  },
  {
   "cell_type": "markdown",
   "id": "25",
   "metadata": {},
   "source": [
    "## Application in Geospatial Context\n",
    "\n",
    "Let's say you are given a list of coordinates and need to calculate the centroid (average point).\n",
    "\n",
    "Example coordinates of four points (latitude, longitude):"
   ]
  },
  {
   "cell_type": "code",
   "execution_count": null,
   "id": "26",
   "metadata": {},
   "outputs": [],
   "source": [
    "points = [\n",
    "    [35.6895, 139.6917],  # Tokyo\n",
    "    [34.0522, -118.2437],  # Los Angeles\n",
    "    [51.5074, -0.1278],  # London\n",
    "    [48.8566, 2.3522],  # Paris\n",
    "]"
   ]
  },
  {
   "cell_type": "markdown",
   "id": "27",
   "metadata": {},
   "source": [
    "Calculate the centroid:"
   ]
  },
  {
   "cell_type": "code",
   "execution_count": null,
   "id": "28",
   "metadata": {},
   "outputs": [],
   "source": [
    "centroid_lat = sum([point[0] for point in points]) / len(points)\n",
    "centroid_lon = sum([point[1] for point in points]) / len(points)\n",
    "centroid = [centroid_lat, centroid_lon]\n",
    "print(\"Centroid of the points is at:\", centroid)"
   ]
  },
  {
   "cell_type": "markdown",
   "id": "29",
   "metadata": {},
   "source": [
    "## Exercises\n",
    "\n",
    "1. Create a list of tuples, each representing the coordinates (latitude, longitude) of different cities you have visited.\n",
    "2. Calculate the centroid of these coordinates.\n",
    "3. Create a dictionary to store the centroid's latitude and longitude."
   ]
  },
  {
   "cell_type": "code",
   "execution_count": null,
   "id": "30",
   "metadata": {},
   "outputs": [],
   "source": [
    "# Type your code here"
   ]
  },
  {
   "cell_type": "markdown",
   "id": "31",
   "metadata": {},
   "source": [
    "## Conclusion\n",
    "\n",
    "Understanding Python variables and data types is crucial in geospatial programming.\n",
    "As you proceed with more complex analyses, these concepts will serve as the foundation for your work.\n",
    "Continue practicing by experimenting with different data types and operations in a geospatial context.\n",
    "\n",
    "Happy coding!"
   ]
  },
  {
   "cell_type": "markdown",
   "id": "6c583461",
   "metadata": {},
   "source": [
    "# Making experiments with leafmap"
   ]
  },
  {
   "cell_type": "code",
   "execution_count": 1,
   "id": "d07dd8ea",
   "metadata": {},
   "outputs": [
    {
     "data": {
      "application/vnd.jupyter.widget-view+json": {
       "model_id": "3d39cbd59f164fd29f6465761143eb1e",
       "version_major": 2,
       "version_minor": 0
      },
      "text/plain": [
       "Map(center=[20, 0], controls=(ZoomControl(options=['position', 'zoom_in_text', 'zoom_in_title', 'zoom_out_text…"
      ]
     },
     "execution_count": 1,
     "metadata": {},
     "output_type": "execute_result"
    }
   ],
   "source": [
    "import leafmap\n",
    "\n",
    "m = leafmap.Map()\n",
    "m"
   ]
  },
  {
   "cell_type": "code",
   "execution_count": 2,
   "id": "14fdba4f",
   "metadata": {},
   "outputs": [],
   "source": [
    "import leafmap.maplibregl as leafmap\n",
    "\n",
    "MAPTILER_KEY = leafmap.get_api_key(\"MAPTILER_KEY\")"
   ]
  },
  {
   "cell_type": "code",
   "execution_count": 3,
   "id": "734402da",
   "metadata": {},
   "outputs": [
    {
     "data": {
      "application/vnd.jupyter.widget-view+json": {
       "model_id": "5fad140c613a4c9f9000067528e0f228",
       "version_major": 2,
       "version_minor": 1
      },
      "text/plain": [
       "Map(height='600px', map_options={'bearing': -17, 'center': (-74.0095, 40.7046), 'pitch': 60, 'style': 'https:/…"
      ]
     },
     "execution_count": 3,
     "metadata": {},
     "output_type": "execute_result"
    }
   ],
   "source": [
    "import leafmap.maplibregl as leafmap\n",
    "\n",
    "MAPTILER_KEY = leafmap.get_api_key(\"MAPTILER_KEY\")\n",
    "\n",
    "\n",
    "m = leafmap.Map(\n",
    "    center=[-74.0095, 40.7046], zoom=16, pitch=60, bearing=-17, style=\"positron\"\n",
    ")\n",
    "m.add_basemap(\"Esri.WorldImagery\", visible=False)\n",
    "m.add_overture_3d_buildings(release=\"2024-07-22\", template=\"simple\")\n",
    "m.add_layer_control()\n",
    "m"
   ]
  },
  {
   "cell_type": "code",
   "execution_count": 3,
   "id": "186cdd8a",
   "metadata": {},
   "outputs": [],
   "source": [
    "m.add_basemap(\"\")\n",
    "\n",
    "# ! fdjfhdsjkhf\n",
    "# @param  \n",
    "# *\n",
    "# TODO\n",
    "# ? sjkjoijdwajoi"
   ]
  }
 ],
 "metadata": {
  "kernelspec": {
   "display_name": "geo",
   "language": "python",
   "name": "python3"
  },
  "language_info": {
   "codemirror_mode": {
    "name": "ipython",
    "version": 3
   },
   "file_extension": ".py",
   "mimetype": "text/x-python",
   "name": "python",
   "nbconvert_exporter": "python",
   "pygments_lexer": "ipython3",
   "version": "3.11.9"
  }
 },
 "nbformat": 4,
 "nbformat_minor": 5
}
