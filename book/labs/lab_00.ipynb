{
 "cells": [
  {
   "cell_type": "markdown",
   "id": "0",
   "metadata": {},
   "source": [
    "# Lab 1\n",
    "\n",
    "[![Open In Colab](https://colab.research.google.com/assets/colab-badge.svg)](https://colab.research.google.com/github/giswqs/geog-312/blob/main/book/labs/lab_01.ipynb)\n",
    "\n",
    "## Question 1\n",
    "\n",
    "**Simple Message:** Assign a message to a variable, and then print that message."
   ]
  },
  {
   "cell_type": "code",
   "execution_count": 3,
   "id": "1",
   "metadata": {},
   "outputs": [
    {
     "name": "stdout",
     "output_type": "stream",
     "text": [
      "Hello Python World!\n"
     ]
    }
   ],
   "source": [
    "# Assign a message to a variable, and then print that message using python\n",
    "message = \"Hello Python World!\"\n",
    "print(message)"
   ]
  },
  {
   "cell_type": "markdown",
   "id": "2",
   "metadata": {},
   "source": [
    "## Question 2\n",
    "\n",
    "**Simple Messages:** Assign a message to a variable, and print that message. Then change the value of the variable to a new message, and print the new message."
   ]
  },
  {
   "cell_type": "code",
   "execution_count": 4,
   "id": "2607917a",
   "metadata": {},
   "outputs": [
    {
     "name": "stdout",
     "output_type": "stream",
     "text": [
      "Hello Python Crash Course World!\n",
      "Changing variable value\n"
     ]
    }
   ],
   "source": [
    "message = \"Hello Python Crash Course World!\"\n",
    "print(message)\n",
    "\n",
    "message = \"Changing variable value\"\n",
    "print(message)\n"
   ]
  },
  {
   "cell_type": "code",
   "execution_count": 10,
   "id": "3",
   "metadata": {},
   "outputs": [],
   "source": [
    "import leafmap  # type: ignore\n",
    "\n",
    "MAPTILER_KEY = leafmap.get_api_key(\"MAPTILER_KEY\")"
   ]
  },
  {
   "cell_type": "code",
   "execution_count": 18,
   "id": "3cce7d74-e14e-46e5-8ea1-83256885f7cc",
   "metadata": {
    "scrolled": true
   },
   "outputs": [
    {
     "data": {
      "application/vnd.jupyter.widget-view+json": {
       "model_id": "dd7e2b8347b1457cb809fad469084aa6",
       "version_major": 2,
       "version_minor": 0
      },
      "text/plain": [
       "Map(center=[-74.0095, 4.7046], controls=(ZoomControl(options=['position', 'zoom_in_text', 'zoom_in_title', 'zo…"
      ]
     },
     "execution_count": 18,
     "metadata": {},
     "output_type": "execute_result"
    }
   ],
   "source": [
    "m = leafmap.Map( center=[-74.0095, 4.7046], zoom=4)\n",
    "m.add_basemap(\"Esri.WorldImagery\", visible=False)\n",
    "m.add_basemap(\"OpenTopoMap\", visible=False)\n",
    "m.add_layer_control()\n",
    "m"
   ]
  },
  {
   "cell_type": "markdown",
   "id": "4",
   "metadata": {},
   "source": [
    "## Question 3\n",
    "\n",
    "**Personal Message:** Use a variable to represent a person’s name, and print a message to that person. Your message should be simple, such as, “Hello Eric, would you like to learn some Python today?”"
   ]
  },
  {
   "cell_type": "code",
   "execution_count": 21,
   "id": "5",
   "metadata": {},
   "outputs": [
    {
     "name": "stdout",
     "output_type": "stream",
     "text": [
      "Hello Erick, would you like to learn some Python today?\n"
     ]
    }
   ],
   "source": [
    "person = \"Erick\"\n",
    "print(f\"Hello {person}, would you like to learn some Python today?\")"
   ]
  },
  {
   "cell_type": "markdown",
   "id": "6",
   "metadata": {},
   "source": [
    "## Question 4\n",
    "\n",
    "**Name Cases:** Use a variable to represent a person’s name, and then print that person’s name in lowercase, uppercase, and title case."
   ]
  },
  {
   "cell_type": "code",
   "execution_count": 26,
   "id": "7",
   "metadata": {},
   "outputs": [
    {
     "name": "stdout",
     "output_type": "stream",
     "text": [
      "erick\n",
      "ERICK\n",
      "Erick \n",
      "\n",
      "Iterate over a list of string methods\n",
      "erick\n",
      "ERICK\n",
      "Erick\n"
     ]
    }
   ],
   "source": [
    "name = \"Erick\"\n",
    "\n",
    "name = name.lower()\n",
    "print(name)\n",
    "\n",
    "name = name.upper()\n",
    "print(name)\n",
    "\n",
    "name = name.title()\n",
    "print(name, \"\\n\")\n",
    "\n",
    "# * Iterate over a list of string methods using getattr\n",
    "print (\"Iterate over a list of string methods\")\n",
    "for method in ['lower', 'upper', 'title']:\n",
    "    name = getattr(name, method)()\n",
    "    print(name)"
   ]
  },
  {
   "cell_type": "markdown",
   "id": "8",
   "metadata": {},
   "source": [
    "## Question 5\n",
    "\n",
    "**Famous Quote:** Find a quote from a famous person you admire. Print the quote and the name of its author. Your output should look something like the following, including the quotation marks:\n",
    "\n",
    "```\n",
    "Albert Einstein once said, “A person who never made a mistake never tried anything new.”\n",
    "```"
   ]
  },
  {
   "cell_type": "code",
   "execution_count": 28,
   "id": "9",
   "metadata": {},
   "outputs": [
    {
     "name": "stdout",
     "output_type": "stream",
     "text": [
      "Maestro Rochi once said,'We gotta train, eat, play and rest those are the keys in the training of MR'\n"
     ]
    }
   ],
   "source": [
    "#  Find a quote from a famous person you admire. Print the quote and the name of its author. Your output should look something like the following, including the quotation marks make it in python\n",
    "print(\"Maestro Rochi once said,'We gotta train, eat, play and rest those are the keys in the training of MR'\")"
   ]
  },
  {
   "cell_type": "markdown",
   "id": "10",
   "metadata": {},
   "source": [
    "## Question 6\n",
    "\n",
    "**Famous Quote 2:** Repeat Exercise 2-5, but this time, represent the famous person’s name using a variable called famous_person. Then compose your message and represent it with a new variable called message. Print your\n",
    "message."
   ]
  },
  {
   "cell_type": "code",
   "execution_count": 29,
   "id": "11",
   "metadata": {},
   "outputs": [
    {
     "name": "stdout",
     "output_type": "stream",
     "text": [
      "Maestro Rochi once said We gotta train, eat, play and rest those are the keys in the training of MR\n"
     ]
    }
   ],
   "source": [
    "famous_person = \"Maestro Rochi\"\n",
    "quote = \"once said We gotta train, eat, play and rest those are the keys in the training of MR\"\n",
    "print(famous_person + \" \" + quote)\n"
   ]
  },
  {
   "cell_type": "markdown",
   "id": "12",
   "metadata": {},
   "source": [
    "## Question 7\n",
    "\n",
    "**Stripping Names:** Use a variable to represent a person’s name, and include some whitespace characters at the beginning and end of the name. Make sure you use each character combination, \"\\t\" and \"\\n\", at least once.\n",
    "Print the name once, so the whitespace around the name is displayed. Then print the name using each of the three stripping functions, lstrip(), rstrip(), and strip()."
   ]
  },
  {
   "cell_type": "code",
   "execution_count": 44,
   "id": "13",
   "metadata": {},
   "outputs": [
    {
     "name": "stdout",
     "output_type": "stream",
     "text": [
      "\tErick\n",
      " q\n",
      "'Erick\\n q'\n",
      "\tErick\n",
      " q\n",
      "Erick\n",
      " q\n"
     ]
    }
   ],
   "source": [
    "name = \"\\tErick\\n q\"\n",
    "print(name)\n",
    "print(repr(name.lstrip()))\n",
    "print(name.rstrip())\n",
    "print(name.strip())"
   ]
  },
  {
   "cell_type": "code",
   "execution_count": 43,
   "id": "31a9d28f",
   "metadata": {},
   "outputs": [
    {
     "name": "stdout",
     "output_type": "stream",
     "text": [
      "Original name with whitespace:\n",
      "'\\tJohn Doe\\n'\n",
      "\n",
      "Name after lstrip():\n",
      "'John Doe\\n'\n",
      "\n",
      "Name after rstrip():\n",
      "'\\tJohn Doe'\n",
      "\n",
      "Name after strip():\n",
      "'John Doe'\n"
     ]
    }
   ],
   "source": [
    "# Define a variable with a person's name, including whitespace characters\n",
    "name = \"\\tJohn Doe\\n\"\n",
    "\n",
    "# Print the name with whitespace\n",
    "print(\"Original name with whitespace:\")\n",
    "print(repr(name))\n",
    "\n",
    "# Print the name using lstrip()\n",
    "print(\"\\nName after lstrip():\")\n",
    "print(repr(name.lstrip()))\n",
    "\n",
    "# Print the name using rstrip()\n",
    "print(\"\\nName after rstrip():\")\n",
    "print(repr(name.rstrip()))\n",
    "\n",
    "# Print the name using strip()\n",
    "print(\"\\nName after strip():\")\n",
    "print(repr(name.strip()))"
   ]
  },
  {
   "cell_type": "code",
   "execution_count": 51,
   "id": "73009689",
   "metadata": {},
   "outputs": [
    {
     "name": "stdout",
     "output_type": "stream",
     "text": [
      "Iterate over a list of string methods:\n",
      "\n",
      "'\\tJohn Doe\\n' \n",
      "\n",
      "lstrip used:\n",
      "'John Doe\\n'\n",
      "rstrip used:\n",
      "'\\tJohn Doe'\n",
      "strip used:\n",
      "'John Doe'\n"
     ]
    }
   ],
   "source": [
    "# Same thing but now with a loop but this time I go through a list of string methods and then\n",
    "# I use getattr to call the method on the string adn apply each time to a constant string name\n",
    "# Also the repr() function is used to print the string with quotes and know hwat is in there\n",
    "NAME_INITIAL = \"\\tJohn Doe\\n\"\n",
    "\n",
    "print(\"Iterate over a list of string methods:\\n\")\n",
    "print(repr(NAME_INITIAL), \"\\n\")\n",
    "\n",
    "for method in [\"lstrip\", \"rstrip\", \"strip\"]:\n",
    "    \n",
    "    name = getattr(NAME_INITIAL, method)()\n",
    "    print(f'{method} used:')\n",
    "    print(repr(name))\n",
    "    "
   ]
  },
  {
   "cell_type": "markdown",
   "id": "14",
   "metadata": {},
   "source": [
    "## Question 8\n",
    "\n",
    "**Number Eight:** Write addition, subtraction, multiplication, and division operations that each result in the number 8. Be sure to enclose your operations in print() calls to see the results. You should create four lines that look like this:\n",
    "\n",
    "```\n",
    "print(5 + 3)\n",
    "```\n",
    "\n",
    "Your output should simply be four lines with the number 8 appearing once on each line."
   ]
  },
  {
   "cell_type": "code",
   "execution_count": 52,
   "id": "15",
   "metadata": {},
   "outputs": [
    {
     "name": "stdout",
     "output_type": "stream",
     "text": [
      "8\n",
      "8\n",
      "8\n",
      "8.0\n"
     ]
    }
   ],
   "source": [
    "print(5 + 3)  # Addition\n",
    "print(16 - 8)  # Subtraction\n",
    "print(4 * 2)  # Multiplication\n",
    "print(64 / 8)  # Division"
   ]
  },
  {
   "cell_type": "markdown",
   "id": "16",
   "metadata": {},
   "source": [
    "## Question 9\n",
    "\n",
    "**Favorite Number:** Use a variable to represent your favorite number. Then, using that variable, create a message that reveals your favorite number. Print that message."
   ]
  },
  {
   "cell_type": "code",
   "execution_count": 53,
   "id": "17",
   "metadata": {},
   "outputs": [
    {
     "name": "stdout",
     "output_type": "stream",
     "text": [
      "My favorite number is 10\n"
     ]
    }
   ],
   "source": [
    "fav_num = 10 \n",
    "print(f\"My favorite number is {fav_num}\")"
   ]
  },
  {
   "cell_type": "markdown",
   "id": "18",
   "metadata": {},
   "source": [
    "## Question 10\n",
    "\n",
    "**Adding Comments:** Choose two of the programs you’ve written, and add at least one comment to each. If you don’t have anything specific to write because your programs are too simple at this point, just add your name and\n",
    "the current date at the top of each program file. Then write one sentence describing what the program does."
   ]
  },
  {
   "cell_type": "code",
   "execution_count": 54,
   "id": "19",
   "metadata": {},
   "outputs": [
    {
     "name": "stdout",
     "output_type": "stream",
     "text": [
      "done\n"
     ]
    }
   ],
   "source": [
    "print(\"done\")"
   ]
  }
 ],
 "metadata": {
  "kernelspec": {
   "display_name": "Python 3 (ipykernel)",
   "language": "python",
   "name": "python3"
  },
  "language_info": {
   "codemirror_mode": {
    "name": "ipython",
    "version": 3
   },
   "file_extension": ".py",
   "mimetype": "text/x-python",
   "name": "python",
   "nbconvert_exporter": "python",
   "pygments_lexer": "ipython3",
   "version": "3.11.9"
  }
 },
 "nbformat": 4,
 "nbformat_minor": 5
}
