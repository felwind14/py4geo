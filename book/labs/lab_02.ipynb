{
 "cells": [
  {
   "cell_type": "markdown",
   "id": "0",
   "metadata": {},
   "source": [
    "# Lab 2\n",
    "\n",
    "[![Open In Colab](https://colab.research.google.com/assets/colab-badge.svg)](https://colab.research.google.com/github/giswqs/geog-312/blob/main/book/labs/lab_02.ipynb)\n",
    "\n",
    "This notebook contains exercises based on the lectures on [**String Operations**](https://geog-312.gishub.org/book/python/04_string_operations.html) and [**Looping and Control Statements**](https://geog-312.gishub.org/book/python/05_looping.html). These exercises will help reinforce the concepts of string manipulation, loops, and conditionals in geospatial contexts."
   ]
  },
  {
   "cell_type": "markdown",
   "id": "1",
   "metadata": {},
   "source": [
    "## Exercise 1: Manipulating Geographic Location Strings\n",
    "\n",
    "- Create a string that represents the name of a geographic feature (e.g., `\"Amazon River\"`).\n",
    "- Convert the string to lowercase and then to uppercase.\n",
    "- Concatenate the string with the name of the country (e.g., `\"Brazil\"`) to create a full location name.\n",
    "- Repeat the string three times, separating each repetition with a dash (`-`)."
   ]
  },
  {
   "cell_type": "code",
   "execution_count": 3,
   "id": "2",
   "metadata": {},
   "outputs": [
    {
     "name": "stdout",
     "output_type": "stream",
     "text": [
      "amazon river\n",
      "AMAZON RIVER\n"
     ]
    }
   ],
   "source": [
    "river = \"Amazon River\"\n",
    "print(river.lower())\n",
    "print(river.upper())"
   ]
  },
  {
   "cell_type": "code",
   "execution_count": 9,
   "id": "d8612c1c",
   "metadata": {},
   "outputs": [
    {
     "name": "stdout",
     "output_type": "stream",
     "text": [
      "Amazon River, Brazil\n",
      "Amazon River, Brazil - Amazon River, Brazil - Amazon River, Brazil\n"
     ]
    }
   ],
   "source": [
    "river_country = river + \", Brazil\"\n",
    "print(river_country)\n",
    "\n",
    "river_country = (river_country + \" - \") * 2 + river_country\n",
    "print(river_country)"
   ]
  },
  {
   "cell_type": "markdown",
   "id": "3",
   "metadata": {},
   "source": [
    "## Exercise 2: Extracting and Formatting Coordinates\n",
    "\n",
    "- Given a string with the format `\"latitude, longitude\"` (e.g., `\"40.7128N, 74.0060W\"`), extract the numeric values of latitude and longitude.\n",
    "- Convert these values to floats and remove the directional indicators (`N`, `S`, `E`, `W`).\n",
    "- Format the coordinates into a `POINT` WKT string (e.g., `\"POINT(-74.0060 40.7128)\"`)."
   ]
  },
  {
   "cell_type": "code",
   "execution_count": 13,
   "id": "4",
   "metadata": {},
   "outputs": [
    {
     "name": "stdout",
     "output_type": "stream",
     "text": [
      "['4', '0', '.', '7', '1', '2', '8', 'N', ',', ' ', '7', '4', '.', '0', '0', '6', '0', 'W']\n"
     ]
    }
   ],
   "source": [
    "str_coordinates =  \"40.7128N, 74.0060W\"\n",
    "\n",
    "l_coordinates = list(str_coordinates)\n",
    "print(l_coordinates)"
   ]
  },
  {
   "cell_type": "code",
   "execution_count": 14,
   "id": "4e626711",
   "metadata": {},
   "outputs": [
    {
     "name": "stdout",
     "output_type": "stream",
     "text": [
      "['40.7128N', ' 74.0060W']\n"
     ]
    }
   ],
   "source": [
    "l_coordinates = str_coordinates.split(\",\")\n",
    "print(l_coordinates)"
   ]
  },
  {
   "cell_type": "code",
   "execution_count": 23,
   "id": "21129ee2",
   "metadata": {},
   "outputs": [
    {
     "name": "stdout",
     "output_type": "stream",
     "text": [
      " 74.0060W\n",
      "W\n",
      "POINT(40.7128,74.006)\n"
     ]
    }
   ],
   "source": [
    "s_lat, s_lon = str_coordinates.split(\",\")\n",
    "print(s_lon)\n",
    "print(s_lon[-1])\n",
    "\n",
    "\n",
    "lat = float(s_lat[:-1])\n",
    "lon = float(s_lon[:-1])\n",
    "\n",
    "print(f\"POINT({lat},{lon})\")\n",
    "\n"
   ]
  },
  {
   "cell_type": "markdown",
   "id": "5",
   "metadata": {},
   "source": [
    "## Exercise 3: Building Dynamic SQL Queries\n",
    "\n",
    "- Given a table name and a condition, dynamically build an SQL query string.\n",
    "- Example: If `table_name = \"cities\"` and `condition = \"population > 1000000\"`, the query should be `\"SELECT * FROM cities WHERE population > 1000000;\"`.\n",
    "- Add additional conditions dynamically, like `AND` clauses."
   ]
  },
  {
   "cell_type": "code",
   "execution_count": 24,
   "id": "6",
   "metadata": {},
   "outputs": [
    {
     "name": "stdout",
     "output_type": "stream",
     "text": [
      "SLECT * FROM cities WHERE population > 1000000\n"
     ]
    }
   ],
   "source": [
    "table_name = 'cities'\n",
    "condition = \"population > 1000000\"\n",
    "\n",
    "print(f\"SLECT * FROM {table_name} WHERE {condition}\")"
   ]
  },
  {
   "cell_type": "markdown",
   "id": "7",
   "metadata": {},
   "source": [
    "## Exercise 4: String Normalization and Cleaning\n",
    "\n",
    "- Given a list of city names with inconsistent formatting (e.g., `[\" new york \", \"Los ANGELES\", \"   CHICAGO\"]`), normalize the names by:\n",
    "  - Stripping any leading or trailing whitespace.\n",
    "  - Converting them to title case (e.g., `\"New York\"`, `\"Los Angeles\"`, `\"Chicago\"`).\n",
    "- Ensure that the output is a clean list of city names."
   ]
  },
  {
   "cell_type": "code",
   "execution_count": 27,
   "id": "8",
   "metadata": {},
   "outputs": [
    {
     "name": "stdout",
     "output_type": "stream",
     "text": [
      "['New York', 'Los Angeles', 'Chicago']\n"
     ]
    }
   ],
   "source": [
    "cities = [\" new york \", \"Los ANGELES\", \"   CHICAGO\"]\n",
    "\n",
    "normalised_countries = [city.strip().title() for city in cities]\n",
    "\n",
    "print(normalised_countries)\n"
   ]
  },
  {
   "cell_type": "markdown",
   "id": "9",
   "metadata": {},
   "source": [
    "## Exercise 5: Parsing and Extracting Address Information\n",
    "\n",
    "- Given a string in the format `\"Street, City, Country\"` (e.g., `\"123 Main St, Springfield, USA\"`), write a function that parses the string into a dictionary with keys `street`, `city`, and `country`.\n",
    "- The function should return a dictionary like `{\"street\": \"123 Main St\", \"city\": \"Springfield\", \"country\": \"USA\"}`."
   ]
  },
  {
   "cell_type": "code",
   "execution_count": 29,
   "id": "10",
   "metadata": {},
   "outputs": [
    {
     "data": {
      "text/plain": [
       "{'Street': '123 Main St', 'City': ' Springfield', 'Country': ' USA'}"
      ]
     },
     "execution_count": 29,
     "metadata": {},
     "output_type": "execute_result"
    }
   ],
   "source": [
    "s_address = \"123 Main St, Springfield, USA\"\n",
    "\n",
    "def address_parser(address):\n",
    "    #split address in str into components\n",
    "    l_address = list(address.split(\",\"))\n",
    "\n",
    "    #Define keys\n",
    "    keys = [\"Street\", \"City\", \"Country\"]\n",
    "    dic_address = {keys[i]: l_address[i] for i in range(len(l_address))}\n",
    "    return dic_address\n",
    "\n",
    "address_parser(s_address)"
   ]
  },
  {
   "cell_type": "markdown",
   "id": "11",
   "metadata": {},
   "source": [
    "## Exercise 6: Using For Loops to Process Coordinate Lists\n",
    "\n",
    "- Create a list of tuples representing coordinates (latitude, longitude).\n",
    "- Write a `for` loop that prints each coordinate and indicates whether it is in the Northern or Southern Hemisphere based on the latitude."
   ]
  },
  {
   "cell_type": "code",
   "execution_count": 32,
   "id": "12",
   "metadata": {},
   "outputs": [
    {
     "name": "stdout",
     "output_type": "stream",
     "text": [
      "[(-30.048096082342667, -30.96096693219505), (85.84141851763337, -43.83195651632283), (18.477576044187614, 96.43839792500859), (-8.98415265625566, 116.73318638814726)]\n",
      "[(-30, -30), (85, -43), (18, 96), (-8, 116)]\n"
     ]
    }
   ],
   "source": [
    "import random\n",
    "\n",
    "locations = []\n",
    "\n",
    "for _ in range(4):\n",
    "    latitude = random.uniform(-90, 90)\n",
    "    longitude = random.uniform(-180, 180)\n",
    "    locations.append((latitude, longitude))\n",
    "\n",
    "print(locations)\n",
    "numbers = [(int(lat), int(lon)) for lat, lon in locations]\n",
    "print(numbers)"
   ]
  },
  {
   "cell_type": "markdown",
   "id": "13",
   "metadata": {},
   "source": [
    "## Exercise 7: While Loops for Iterative Processing\n",
    "\n",
    "- Create a list of coordinates (latitude, longitude).\n",
    "- Write a `while` loop that continues to print each coordinate until it encounters a coordinate with a negative latitude.\n",
    "- Stop the loop once this condition is met."
   ]
  },
  {
   "cell_type": "code",
   "execution_count": 10,
   "id": "14",
   "metadata": {},
   "outputs": [
    {
     "name": "stdout",
     "output_type": "stream",
     "text": [
      "[(45.37494746008127, -150.5512146050068), (41.04540188802122, 14.353463531079825), (-86.17569636818622, 176.78330566935222), (42.915049728949356, -158.09739713776835)]\n",
      "[(45, -150), (41, 14), (-86, 176), (42, -158)]\n"
     ]
    }
   ],
   "source": [
    "import random\n",
    "\n",
    "locations = []\n",
    "\n",
    "for _ in range(4):\n",
    "    latitude = random.uniform(-90, 90)\n",
    "    longitude = random.uniform(-180, 180)\n",
    "    locations.append((latitude, longitude))\n",
    "\n",
    "print(locations)\n",
    "numbers = [(int(lat), int(lon)) for lat, lon in locations]\n",
    "print(numbers)"
   ]
  },
  {
   "cell_type": "code",
   "execution_count": 12,
   "id": "53d51f11",
   "metadata": {},
   "outputs": [
    {
     "name": "stdout",
     "output_type": "stream",
     "text": [
      "(45.37, -150.55)\n",
      "(41.05, 14.35)\n"
     ]
    }
   ],
   "source": [
    "counter = 0\n",
    "while True:\n",
    "    lat, lon  = locations[counter]\n",
    "    if lat < 0:\n",
    "        break\n",
    "    else:\n",
    "        print(f\"({lat:.2f}, {lon:.2f})\")\n",
    "        counter += 1\n"
   ]
  },
  {
   "cell_type": "markdown",
   "id": "15",
   "metadata": {},
   "source": [
    "## Exercise 8: Conditional Logic in Loops\n",
    "\n",
    "- Create a list of coordinates and use a `for` loop to iterate over them.\n",
    "- Use an `if-elif-else` statement inside the loop to classify each coordinate based on its longitude:\n",
    "  - Print `\"Eastern Hemisphere\"` if the longitude is greater than 0.\n",
    "  - Print `\"Western Hemisphere\"` if the longitude is less than 0."
   ]
  },
  {
   "cell_type": "code",
   "execution_count": 18,
   "id": "16",
   "metadata": {},
   "outputs": [
    {
     "name": "stdout",
     "output_type": "stream",
     "text": [
      "(-34.88, -118.00)\n",
      "(14.81, 33.63)\n",
      "(-43.87, 74.01)\n",
      "(14.95, 41.84)\n"
     ]
    }
   ],
   "source": [
    "#This program only plots but not modify locations list\n",
    "for coordinate in locations:\n",
    "    print(f\"({coordinate[0]:.2f}, {coordinate[1]:.2f})\")"
   ]
  },
  {
   "cell_type": "code",
   "execution_count": 23,
   "id": "f64367de",
   "metadata": {},
   "outputs": [
    {
     "name": "stdout",
     "output_type": "stream",
     "text": [
      "Coordinate (-34.87952157853572, -118.0016524788023) is on the Western Hemisphere\n",
      "Coordinate (14.811078505441401, 33.62867638319716) is on the Eastern Hemisphere\n",
      "Coordinate (-43.870810575671754, 74.00690463034857) is on the Western Hemisphere\n",
      "Coordinate (14.949828424264297, 41.838146398115896) is on the Eastern Hemisphere\n"
     ]
    }
   ],
   "source": [
    "#This program classify the coordinates by hemisphere but do not modify locations list\n",
    "for coordinate in locations:\n",
    "    if coordinate[0] > 0 :\n",
    "        print(f\"Coordinate {coordinate} is on the Eastern Hemisphere\")\n",
    "    else:\n",
    "        print(f\"Coordinate {coordinate} is on the Western Hemisphere\")\n"
   ]
  },
  {
   "cell_type": "code",
   "execution_count": 26,
   "id": "0aa45957",
   "metadata": {},
   "outputs": [
    {
     "name": "stdout",
     "output_type": "stream",
     "text": [
      "Coordinate ('-34.88', '-118.00') is on the Western Hemisphere\n",
      "Coordinate ('14.81', '33.63') is on the Eastern Hemisphere\n",
      "Coordinate ('-43.87', '74.01') is on the Western Hemisphere\n",
      "Coordinate ('14.95', '41.84') is on the Eastern Hemisphere\n"
     ]
    }
   ],
   "source": [
    "\"\"\"\n",
    "This program checks each element in the locations list and prints the coordinates in a formatted way.\n",
    "- Verify if the first element of the tuple is greater than 0 (latitude) \n",
    "- if it is, formats the tuple with with two decimal places using a list comprehension and the f-string method\n",
    "- each element in the tuple is formated and placed in a list\n",
    "- the list is converted to a tuple\n",
    "- the tuple is assigned to the variable formatted_coordinate_E\n",
    "    \"\"\"\n",
    "for coordinate in locations:\n",
    "    if coordinate[0] > 0:\n",
    "        formatted_coordinate_E = tuple([f\"{i:.2f}\" for i in coordinate])\n",
    "        print(f\"Coordinate {formatted_coordinate_E} is on the Eastern Hemisphere\")\n",
    "    else:\n",
    "        formatted_coordinate_W = tuple([f\"{i:.2f}\" for i in coordinate])\n",
    "        print(f\"Coordinate {formatted_coordinate_W} is on the Western Hemisphere\")"
   ]
  },
  {
   "cell_type": "markdown",
   "id": "17",
   "metadata": {},
   "source": [
    "## Exercise 9: Filtering Data with Combined Loops and Conditionals\n",
    "\n",
    "- Given a list of coordinates, filter out and store only those located in the Southern Hemisphere (latitude < 0).\n",
    "- Count the number of coordinates that meet this condition and print the result."
   ]
  },
  {
   "cell_type": "code",
   "execution_count": 31,
   "id": "18",
   "metadata": {},
   "outputs": [
    {
     "name": "stdout",
     "output_type": "stream",
     "text": [
      "Coordinates in the south hemisphere:\n",
      "[(-34.87952157853572, -118.0016524788023), (-43.870810575671754, 74.00690463034857)]\n"
     ]
    }
   ],
   "source": [
    "south_hemisphere = [coordinate for coordinate in locations if coordinate[0] < 1] #[0] = first coordinate or latitude\n",
    "print(f\"Coordinates in the south hemisphere:\\n{south_hemisphere}\")"
   ]
  },
  {
   "cell_type": "code",
   "execution_count": 33,
   "id": "9684382f",
   "metadata": {},
   "outputs": [
    {
     "name": "stdout",
     "output_type": "stream",
     "text": [
      "Coordinates in teh South Hemisphere\n",
      "[(-34.87952157853572, -118.0016524788023), (-43.870810575671754, 74.00690463034857)]\n"
     ]
    }
   ],
   "source": [
    "south_hemisphere = []\n",
    "\n",
    "for coordinate in locations:\n",
    "    if coordinate[0] < 0:\n",
    "        south_hemisphere.append(coordinate)\n",
    "\n",
    "print(\"Coordinates in teh South Hemisphere\")\n",
    "print(south_hemisphere)"
   ]
  },
  {
   "cell_type": "markdown",
   "id": "19",
   "metadata": {},
   "source": [
    "## Exercise 10: Generating and Analyzing Random Coordinates\n",
    "\n",
    "- Write a program that generates random coordinates (latitude between [-90, 90] degrees and longitude between [-180, 180] degrees).\n",
    "- Use a `while` loop to keep generating coordinates until a pair with both latitude and longitude greater than 50 is generated.\n",
    "- Print each generated coordinate and the final coordinate that meets the condition."
   ]
  },
  {
   "cell_type": "code",
   "execution_count": 51,
   "id": "20",
   "metadata": {},
   "outputs": [
    {
     "name": "stdout",
     "output_type": "stream",
     "text": [
      "- lat random number = -54\n",
      "- lon random number = 78\n",
      "((-54, 78))\n",
      "\n",
      "- lat random number = -80\n",
      "- lon random number = -126\n",
      "((-80, -126))\n",
      "\n",
      "- lat random number = 99\n",
      "- lon random number = -125\n",
      "((99, -125))\n",
      "\n",
      "- lat random number = 26\n",
      "- lon random number = -154\n",
      "((26, -154))\n",
      "\n",
      "- lat random number = -30\n",
      "- lon random number = -40\n",
      "((-30, -40))\n",
      "\n",
      "- lat random number = -48\n",
      "- lon random number = 91\n",
      "((-48, 91))\n",
      "\n",
      "- lat random number = -177\n",
      "- lon random number = -159\n",
      "((-177, -159))\n",
      "\n",
      "- lat random number = -142\n",
      "- lon random number = 143\n",
      "Condition achieved\n"
     ]
    }
   ],
   "source": [
    "import random\n",
    "\n",
    "while True:\n",
    "    lat = random.randint(-180,180)\n",
    "    lon = random.randint(-180,180)\n",
    "    print(f\"- lat random number = {lat}\")\n",
    "    print(f\"- lon random number = {lon}\")\n",
    "    if lat and lon < 100 :\n",
    "        print(f\"({lat, lon})\\n\")\n",
    "    else:\n",
    "        print(\"Condition achieved\")\n",
    "        break"
   ]
  },
  {
   "cell_type": "code",
   "execution_count": null,
   "id": "34a3ff0b",
   "metadata": {},
   "outputs": [],
   "source": []
  }
 ],
 "metadata": {
  "kernelspec": {
   "display_name": "Python 3",
   "language": "python",
   "name": "python3"
  },
  "language_info": {
   "codemirror_mode": {
    "name": "ipython",
    "version": 3
   },
   "file_extension": ".py",
   "mimetype": "text/x-python",
   "name": "python",
   "nbconvert_exporter": "python",
   "pygments_lexer": "ipython3",
   "version": "3.11.9"
  }
 },
 "nbformat": 4,
 "nbformat_minor": 5
}
