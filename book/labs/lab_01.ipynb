{
 "cells": [
  {
   "cell_type": "markdown",
   "id": "0",
   "metadata": {},
   "source": [
    "# Lab 1\n",
    "\n",
    "[![Open In Colab](https://colab.research.google.com/assets/colab-badge.svg)](https://colab.research.google.com/github/giswqs/geog-312/blob/main/book/labs/lab_01.ipynb)"
   ]
  },
  {
   "cell_type": "markdown",
   "id": "1",
   "metadata": {},
   "source": [
    "## Exercise 1: Variable Assignment and Basic Operations\n",
    "\n",
    "Create variables to store the following geospatial data:\n",
    "\n",
    "- The latitude and longitude of New York City: 40.7128, -74.0060.\n",
    "- The population of New York City: 8,336,817.\n",
    "- The area of New York City in square kilometers: 783.8.\n",
    "\n",
    "Perform the following tasks:\n",
    "\n",
    "1. Calculate and print the population density of New York City (population per square kilometer).\n",
    "2. Print the coordinates in the format \"Latitude: [latitude], Longitude: [longitude]\"."
   ]
  },
  {
   "cell_type": "code",
   "execution_count": 1,
   "id": "2",
   "metadata": {},
   "outputs": [],
   "source": [
    "latitude_NY = 40.7128\n",
    "longitude_NY = -74.0060\n",
    "population_NY = 8336817\n",
    "area_NY = 783.8"
   ]
  },
  {
   "cell_type": "code",
   "execution_count": 4,
   "id": "6ee2f24a",
   "metadata": {},
   "outputs": [
    {
     "name": "stdout",
     "output_type": "stream",
     "text": [
      "The population density of New York is 10636 per km^2\n"
     ]
    }
   ],
   "source": [
    "population_NY_km2 = int(population_NY / area_NY)\n",
    "print(f\"The population density of New York is {population_NY_km2} per km^2\")"
   ]
  },
  {
   "cell_type": "markdown",
   "id": "3",
   "metadata": {},
   "source": [
    "## Exercise 2: Working with Strings\n",
    "\n",
    "Create a string variable to store the name of a city, such as \"San Francisco\". Perform the following operations:\n",
    "\n",
    "1. Convert the string to lowercase and print the result.\n",
    "2. Convert the string to uppercase and print the result.\n",
    "3. Replace \"San\" with \"Los\" in the city name and print the new string."
   ]
  },
  {
   "cell_type": "code",
   "execution_count": 13,
   "id": "4",
   "metadata": {},
   "outputs": [],
   "source": [
    "city = \"San Francisco\""
   ]
  },
  {
   "cell_type": "code",
   "execution_count": 14,
   "id": "14e61f1a",
   "metadata": {},
   "outputs": [
    {
     "name": "stdout",
     "output_type": "stream",
     "text": [
      "san francisco\n"
     ]
    }
   ],
   "source": [
    "city_lc = city.lower()\n",
    "print(city_lc)"
   ]
  },
  {
   "cell_type": "code",
   "execution_count": 15,
   "id": "622f53c4",
   "metadata": {},
   "outputs": [
    {
     "name": "stdout",
     "output_type": "stream",
     "text": [
      "SAN FRANCISCO\n"
     ]
    }
   ],
   "source": [
    "city_uc = city.upper()\n",
    "print(city_uc)"
   ]
  },
  {
   "cell_type": "markdown",
   "id": "e564a8c1",
   "metadata": {},
   "source": [
    "Replacing strings in a string variable:"
   ]
  },
  {
   "cell_type": "code",
   "execution_count": 9,
   "id": "d6f21f32",
   "metadata": {},
   "outputs": [
    {
     "name": "stdout",
     "output_type": "stream",
     "text": [
      "Los Francisco\n"
     ]
    }
   ],
   "source": [
    "new_city_a = city.replace(\"San\", \"Los\")\n",
    "print(new_city_a)"
   ]
  },
  {
   "cell_type": "code",
   "execution_count": 18,
   "id": "89462ac2",
   "metadata": {},
   "outputs": [
    {
     "name": "stdout",
     "output_type": "stream",
     "text": [
      "Los Francisco\n"
     ]
    }
   ],
   "source": [
    "new_city_b = \"Los\" + city[3:]\n",
    "print(new_city_b)"
   ]
  },
  {
   "cell_type": "markdown",
   "id": "5",
   "metadata": {},
   "source": [
    "## Exercise 3: Using Lists\n",
    "\n",
    "Create a list of tuples, where each tuple contains the name of a city and its corresponding latitude and longitude:\n",
    "\n",
    "- New York City: (40.7128, -74.0060)\n",
    "- Los Angeles: (34.0522, -118.2437)\n",
    "- Chicago: (41.8781, -87.6298)\n",
    "\n",
    "Perform the following tasks:\n",
    "\n",
    "1. Add a new city (e.g., Miami: (25.7617, -80.1918)) to the list.\n",
    "2. Print the entire list of cities.\n",
    "3. Slice the list to print only the first two cities."
   ]
  },
  {
   "cell_type": "code",
   "execution_count": 78,
   "id": "6",
   "metadata": {},
   "outputs": [
    {
     "name": "stdout",
     "output_type": "stream",
     "text": [
      "[('New York City', (40.7128, -74.006)), ('Los Angeles:', (34.0522, -118.2437)), ('Chicago', (41.8781, -87.6298))] \n",
      "\n",
      "Extracting the latitude of NY: 40.7128\n"
     ]
    }
   ],
   "source": [
    "list_tuple_city_coordinates = [\n",
    "    (\"New York City\", (40.7128, -74.0060)),\n",
    "    (\"Los Angeles:\", (34.0522, -118.2437)),\n",
    "    (\"Chicago\", (41.8781, -87.6298)),\n",
    "]\n",
    "\n",
    "print(list_tuple_city_coordinates,\"\\n\")\n",
    "print(f\"Extracting the latitude of NY: {list_tuple_city_coordinates[0][1][0]}\")"
   ]
  },
  {
   "cell_type": "markdown",
   "id": "ba92116e",
   "metadata": {},
   "source": [
    "Trying understand classes part 1"
   ]
  },
  {
   "cell_type": "code",
   "execution_count": 4,
   "id": "63f1c582",
   "metadata": {},
   "outputs": [
    {
     "name": "stdout",
     "output_type": "stream",
     "text": [
      "Dog named Buddy, age 3\n",
      "Dog named Buddy, age 3\n"
     ]
    }
   ],
   "source": [
    "class Dog:\n",
    "    def __init__(self, name, age):\n",
    "        self.name = name\n",
    "        self.age = age\n",
    "    \n",
    "    def __str__(self):\n",
    "        return f\"Dog named {self.name}, age {self.age}\"\n",
    "\n",
    "# Creating a dog object\n",
    "my_dog = Dog(\"Buddy\", 3)\n",
    "\n",
    "# Using the str method\n",
    "print(str(my_dog)) \n",
    "print(my_dog)"
   ]
  },
  {
   "cell_type": "markdown",
   "id": "7",
   "metadata": {},
   "source": [
    "## Exercise 4: Using Tuples\n",
    "\n",
    "Create a tuple to store the coordinates (latitude, longitude) of the Eiffel Tower: (48.8584, 2.2945). Perform the following tasks:\n",
    "\n",
    "1. Access and print the latitude and longitude values from the tuple.\n",
    "2. Try to change the latitude value to 48.8585. What happens? Explain why."
   ]
  },
  {
   "cell_type": "code",
   "execution_count": 19,
   "id": "8",
   "metadata": {},
   "outputs": [
    {
     "name": "stdout",
     "output_type": "stream",
     "text": [
      "48.8584\n"
     ]
    }
   ],
   "source": [
    "tup_eiffel = (48.8584, 2.2945)\n",
    "print(tup_eiffel[0])"
   ]
  },
  {
   "cell_type": "markdown",
   "id": "9",
   "metadata": {},
   "source": [
    "## Exercise 5: Working with Sets\n",
    "\n",
    "Create a set of countries you have visited, such as {\"USA\", \"France\", \"Germany\"}. Perform the following tasks:\n",
    "\n",
    "1. Add a new country to the set.\n",
    "2. Try to add the same country again. What happens?\n",
    "3. Print the updated set."
   ]
  },
  {
   "cell_type": "code",
   "execution_count": 26,
   "id": "10",
   "metadata": {},
   "outputs": [
    {
     "name": "stdout",
     "output_type": "stream",
     "text": [
      "{'France', 'Germany', 'Spain'}\n",
      "{'France', 'Germany', 'Spain'}\n"
     ]
    }
   ],
   "source": [
    "visited_countries ={\"France\", \"Germany\"}\n",
    "visited_countries.add(\"Spain\")\n",
    "print(visited_countries)\n",
    "\n",
    "visited_countries.add(\"Germany\")\n",
    "print(visited_countries)"
   ]
  },
  {
   "cell_type": "markdown",
   "id": "11",
   "metadata": {},
   "source": [
    "## Exercise 6: Working with Dictionaries\n",
    "\n",
    "Create a dictionary to store information about a specific geospatial feature, such as a river:\n",
    "\n",
    "- Name: \"Amazon River\"\n",
    "- Length: 6400 km\n",
    "- Countries: [\"Brazil\", \"Peru\", \"Colombia\"]\n",
    "\n",
    "Perform the following tasks:\n",
    "\n",
    "1. Add a new key-value pair to the dictionary to store the river's average discharge (e.g., 209,000 m³/s).\n",
    "2. Update the length of the river to 6992 km.\n",
    "3. Print the dictionary."
   ]
  },
  {
   "cell_type": "code",
   "execution_count": 30,
   "id": "12",
   "metadata": {},
   "outputs": [
    {
     "data": {
      "text/plain": [
       "{'Type': 'River',\n",
       " 'Name': 'Amazon',\n",
       " 'Length': 6400,\n",
       " 'Countries': ['Brazil', 'Peru', 'Colombia']}"
      ]
     },
     "execution_count": 30,
     "metadata": {},
     "output_type": "execute_result"
    }
   ],
   "source": [
    "geos_features = {\n",
    "    \"Type\" : \"River\",\n",
    "    \"Name\" : \"Amazon\",\n",
    "    \"Length\" : 6400, # km,\n",
    "    \"Countries\" : [\"Brazil\", \"Peru\", \"Colombia\"]}\n",
    "\n",
    "geos_features\n"
   ]
  },
  {
   "cell_type": "code",
   "execution_count": 32,
   "id": "7d4b226c",
   "metadata": {},
   "outputs": [
    {
     "data": {
      "text/plain": [
       "{'Type': 'River',\n",
       " 'Name': 'Amazon',\n",
       " 'Length': 6992,\n",
       " 'Countries': ['Brazil', 'Peru', 'Colombia'],\n",
       " 'Discharge': 209000}"
      ]
     },
     "execution_count": 32,
     "metadata": {},
     "output_type": "execute_result"
    }
   ],
   "source": [
    "# Adding a key -pair value\n",
    "\n",
    "geos_features[\"Discharge\"] = 209000 # m^3/s\n",
    "\n",
    "#Updating Amazon's length\n",
    "\n",
    "geos_features[\"Length\"] = 6992 \n",
    "\n",
    "geos_features"
   ]
  },
  {
   "cell_type": "markdown",
   "id": "13",
   "metadata": {},
   "source": [
    "## Exercise 7: Nested Data Structures\n",
    "\n",
    "Create a dictionary to represent a city that contains the city's name, population, and coordinates (latitude, longitude):\n",
    "\n",
    "- Name: \"Tokyo\"\n",
    "- Population: 13,515,271\n",
    "- Coordinates: (35.6895, 139.6917)\n",
    "\n",
    "Perform the following tasks:\n",
    "\n",
    "1. Access and print the population of the city.\n",
    "2. Access and print the city's latitude.\n",
    "3. Update the population to 14,000,000 and print the updated dictionary."
   ]
  },
  {
   "cell_type": "code",
   "execution_count": 44,
   "id": "14",
   "metadata": {},
   "outputs": [
    {
     "name": "stdout",
     "output_type": "stream",
     "text": [
      "13515271\n",
      "35.6895\n",
      "Latitude Tokyo is: 35.6895\n"
     ]
    }
   ],
   "source": [
    "cities = {\n",
    "    \"Name\" : \"Tokyo\",\n",
    "    \"Population\" : 13515271,\n",
    "    \"Coordinates\" : (35.6895, 139.6917)\n",
    "}\n",
    "\n",
    "print(cities[\"Population\"])\n",
    "print(cities[\"Coordinates\"].__getitem__(0))\n",
    "print(f\"Latitude Tokyo is: {cities['Coordinates'][0]}\")"
   ]
  },
  {
   "cell_type": "code",
   "execution_count": 45,
   "id": "f82f1bdc",
   "metadata": {},
   "outputs": [
    {
     "name": "stdout",
     "output_type": "stream",
     "text": [
      "Alice\n",
      "25\n",
      "New York\n",
      "{'name': 'Alice', 'city': 'New York'}\n"
     ]
    }
   ],
   "source": [
    "#how to make that a dictionary uses notation . /or use Pandas\n",
    "\n",
    "class DotDict(dict):\n",
    "    \"\"\"dot.notation access to dictionary attributes\n",
    "\n",
    "    Args:\n",
    "        dict (_type_): Dictionary object\n",
    "    \"\"\"    \n",
    "\n",
    "    def __getattr__(self, attr):\n",
    "        try:\n",
    "            return self[attr]\n",
    "        except KeyError:\n",
    "            raise AttributeError(\"Attribute not found\")\n",
    "     \n",
    "    def __setattr__(self, attr, value):\n",
    "        self[attr] = value\n",
    "\n",
    "    def __delattr__(self, attr):\n",
    "        try:\n",
    "            del self[attr]\n",
    "        except KeyError:\n",
    "            raise AttributeError(f\"'DotDict' object has no attribute '{attr}'\")\n",
    "\n",
    "# Example usage\n",
    "data = DotDict({'name': 'Alice', 'age': 25})\n",
    "\n",
    "# Accessing values using dot notation\n",
    "print(data.name)  # Output: Alice\n",
    "print(data.age)   # Output: 25\n",
    "\n",
    "# Setting values using dot notation\n",
    "data.city = 'New York'\n",
    "print(data.city)  # Output: New York\n",
    "\n",
    "# Deleting values using dot notation\n",
    "del data.age\n",
    "print(data)    "
   ]
  },
  {
   "cell_type": "markdown",
   "id": "15",
   "metadata": {},
   "source": [
    "## Exercise 8: List Operations\n",
    "\n",
    "Given the list of cities from Exercise 3, perform the following operations:\n",
    "\n",
    "1. Sort the list of cities alphabetically by name.\n",
    "2. Create a new list that contains only the city names.\n",
    "3. Remove the last city from the original list and print the updated list."
   ]
  },
  {
   "cell_type": "code",
   "execution_count": 73,
   "id": "16",
   "metadata": {},
   "outputs": [
    {
     "name": "stdout",
     "output_type": "stream",
     "text": [
      "[('Chicago', (41.8781, -87.6298)), ('Los Angeles:', (34.0522, -118.2437)), ('New York City', (40.7128, -74.006))]\n",
      "[('New York City', (40.7128, -74.006)), ('Los Angeles:', (34.0522, -118.2437)), ('Chicago', (41.8781, -87.6298))]\n",
      "[('Chicago', (41.8781, -87.6298)), ('Los Angeles:', (34.0522, -118.2437)), ('New York City', (40.7128, -74.006))]\n"
     ]
    }
   ],
   "source": [
    "l_sorted = sorted(list_tuple_city_coordinates)\n",
    "print(l_sorted)\n",
    "\n",
    "print(list_tuple_city_coordinates) #sorted does not modify the list\n",
    "\n",
    "list_test = list_tuple_city_coordinates.copy() #copy the list\n",
    "list_test.sort()  #if we want to make it work with the .sort() method we need to call sort we need to call it on the list itself\n",
    "print(list_test)\n"
   ]
  },
  {
   "cell_type": "code",
   "execution_count": 103,
   "id": "20cd42d5",
   "metadata": {},
   "outputs": [
    {
     "data": {
      "text/plain": [
       "{'Chicago', 'Los Angeles:', 'New York City'}"
      ]
     },
     "execution_count": 103,
     "metadata": {},
     "output_type": "execute_result"
    }
   ],
   "source": [
    "#Extracting the city names from the list of tuples wit a for list comprehension\n",
    "list_city_name = {city[0] for city in list_tuple_city_coordinates}\n",
    "list_city_name"
   ]
  },
  {
   "cell_type": "code",
   "execution_count": 104,
   "id": "33530865",
   "metadata": {},
   "outputs": [
    {
     "data": {
      "text/plain": [
       "('New York City', 'Los Angeles:', 'Chicago')"
      ]
     },
     "execution_count": 104,
     "metadata": {},
     "output_type": "execute_result"
    }
   ],
   "source": [
    "#ziping the list of tuples to extract the city names, _ is a throwaway variable but if change for coordinates\n",
    "#we can extract the coordinates\n",
    "\n",
    "list_city_name_2, _ = zip(*list_tuple_city_coordinates)\n",
    "list_city_name_2"
   ]
  },
  {
   "cell_type": "code",
   "execution_count": 105,
   "id": "94a42667",
   "metadata": {},
   "outputs": [
    {
     "name": "stdout",
     "output_type": "stream",
     "text": [
      "['Chicago', 'Los Angeles:']\n"
     ]
    }
   ],
   "source": [
    "l_cleaned = list(list_city_name_2)#we can't delete an element from a tuple, we need to convert it to a list\n",
    "del l_cleaned[0]\n",
    "print(sorted(l_cleaned))"
   ]
  },
  {
   "cell_type": "code",
   "execution_count": 106,
   "id": "eda0fc3c",
   "metadata": {},
   "outputs": [
    {
     "data": {
      "text/plain": [
       "['Los Angeles:', 'Chicago', 'Bogota']"
      ]
     },
     "execution_count": 106,
     "metadata": {},
     "output_type": "execute_result"
    }
   ],
   "source": [
    "l_cleaned.insert(3, \"Bogota\")\n",
    "l_cleaned"
   ]
  },
  {
   "cell_type": "code",
   "execution_count": 107,
   "id": "05aa6078",
   "metadata": {},
   "outputs": [
    {
     "data": {
      "text/plain": [
       "['Chicago', 'Bogota']"
      ]
     },
     "execution_count": 107,
     "metadata": {},
     "output_type": "execute_result"
    }
   ],
   "source": [
    "l_cleaned.remove(\"Los Angeles:\")\n",
    "l_cleaned"
   ]
  },
  {
   "cell_type": "code",
   "execution_count": 123,
   "id": "8ef2e383",
   "metadata": {},
   "outputs": [
    {
     "name": "stdout",
     "output_type": "stream",
     "text": [
      "['Chicago', 'Bogota', 'New York', 'New York', 'New York', 'New York', 'Medellin']\n"
     ]
    }
   ],
   "source": [
    "#adding date using slicing\n",
    "\n",
    "l_cleaned[3:3] = [\"New York\"]  #needs to be inside [] otherwise each character will be\n",
    "#added as a separate element\n",
    "print(l_cleaned)"
   ]
  },
  {
   "cell_type": "code",
   "execution_count": 126,
   "id": "a671a050",
   "metadata": {},
   "outputs": [
    {
     "data": {
      "text/plain": [
       "['Chicago', 'Bogota', 'New York', 'New York', 'Medellin', 'Medellin']"
      ]
     },
     "execution_count": 126,
     "metadata": {},
     "output_type": "execute_result"
    }
   ],
   "source": [
    "l_cleaned = l_cleaned[:5] + [\"Medellin\"]\n",
    "l_cleaned"
   ]
  },
  {
   "cell_type": "markdown",
   "id": "17",
   "metadata": {},
   "source": [
    "## Exercise 9: Dictionary Operations\n",
    "\n",
    "Using the dictionary from Exercise 6, perform the following tasks:\n",
    "\n",
    "1. Check if the key \"Length\" exists in the dictionary.\n",
    "2. Print all the keys in the dictionary.\n",
    "3. Print all the values in the dictionary."
   ]
  },
  {
   "cell_type": "code",
   "execution_count": 115,
   "id": "18",
   "metadata": {},
   "outputs": [
    {
     "name": "stdout",
     "output_type": "stream",
     "text": [
      "Length is a key in the dictionary\n"
     ]
    }
   ],
   "source": [
    "geos_features = {\n",
    "    \"Type\" : \"River\",\n",
    "    \"Name\" : \"Amazon\",\n",
    "    \"Length\" : 6400, # km,\n",
    "    \"Countries\" : [\"Brazil\", \"Peru\", \"Colombia\"]}\n",
    "\n",
    "geos_features\n",
    "\n",
    "if \"Length\" in geos_features.keys():\n",
    "    print(\"Length is a key in the dictionary\")\n",
    "else:\n",
    "    print(\"Length is not a key in the dictionary\")"
   ]
  },
  {
   "cell_type": "code",
   "execution_count": 118,
   "id": "a6c6a9a4",
   "metadata": {},
   "outputs": [
    {
     "name": "stdout",
     "output_type": "stream",
     "text": [
      "dict_keys(['Type', 'Name', 'Length', 'Countries'])\n",
      "dict_values(['River', 'Amazon', 6400, ['Brazil', 'Peru', 'Colombia']])\n"
     ]
    }
   ],
   "source": [
    "print(geos_features.keys())\n",
    "print(geos_features.values())"
   ]
  },
  {
   "cell_type": "code",
   "execution_count": 131,
   "id": "42d7f9d7",
   "metadata": {},
   "outputs": [
    {
     "name": "stdout",
     "output_type": "stream",
     "text": [
      "Key does not exist\n",
      "Value exists\n"
     ]
    }
   ],
   "source": [
    "# Example dictionary\n",
    "city_coordinates = {\n",
    "    \"New York City\": (40.7128, -74.006),\n",
    "    \"Los Angeles\": (34.0522, -118.2437),\n",
    "    \"Chicago\": (41.8781, -87.6298)\n",
    "}\n",
    "\n",
    "# Check if a key exists-->this wont work\n",
    "if 40.7128 in city_coordinates:\n",
    "    print(\"Key exists\")\n",
    "else:\n",
    "    print(\"Key does not exist\")\n",
    "\n",
    "#this one will work\n",
    "if (40.7128, -74.006) in city_coordinates.values():\n",
    "    print(\"Value exists\")\n"
   ]
  },
  {
   "cell_type": "markdown",
   "id": "19",
   "metadata": {},
   "source": [
    "## Exercise 10: Practical Application\n",
    "\n",
    "Imagine you have a list of tuples, each representing a location with its name, latitude, and longitude:"
   ]
  },
  {
   "cell_type": "code",
   "execution_count": 145,
   "id": "20",
   "metadata": {},
   "outputs": [],
   "source": [
    "locations = [\n",
    "    (\"Mount Everest\", 27.9881, 86.9250),\n",
    "    (\"K2\", 35.8808, 76.5155),\n",
    "    (\"Kangchenjunga\", 27.7025, 88.1475),\n",
    "]"
   ]
  },
  {
   "cell_type": "markdown",
   "id": "21",
   "metadata": {},
   "source": [
    "Perform the following tasks:\n",
    "\n",
    "1. Create a new list that contains only the names of the locations.\n",
    "2. Create a dictionary where the keys are location names and the values are tuples of their coordinates.\n",
    "3. Print the latitude of \"K2\" using the dictionary."
   ]
  },
  {
   "cell_type": "code",
   "execution_count": 146,
   "id": "3",
   "metadata": {},
   "outputs": [
    {
     "name": "stdout",
     "output_type": "stream",
     "text": [
      "<class 'tuple'>\n",
      "['Mount Everest', 'K2', 'Kangchenjunga']\n"
     ]
    }
   ],
   "source": [
    "new_locations, lat, lon = zip(*locations)\n",
    "print(type(new_locations)) \n",
    "\n",
    "l_locations = list(new_locations)\n",
    "print(l_locations)"
   ]
  },
  {
   "cell_type": "code",
   "execution_count": 148,
   "id": "92babed0",
   "metadata": {},
   "outputs": [
    {
     "name": "stdout",
     "output_type": "stream",
     "text": [
      "{'Mount Everest': (27.9881, 86.925), 'K2': (35.8808, 76.5155), 'Kangchenjunga': (27.7025, 88.1475)}\n"
     ]
    }
   ],
   "source": [
    "#Creating a dictionary from a list of tuples\n",
    "#unpacking the tuples\n",
    "place1, lat1, lon1 = locations [0]\n",
    "place2, lat2, lon2 = locations [1]\n",
    "place3, lat3, lon3 = locations [2]\n",
    "\n",
    "places = [place1, place2, place3]\n",
    "coordinates = [(lat1, lon1), (lat2, lon2), (lat3, lon3)]\n",
    "\n",
    "dict_locations = dict(zip(places, coordinates))\n",
    "print(dict_locations)"
   ]
  },
  {
   "cell_type": "code",
   "execution_count": 149,
   "id": "a673ef12",
   "metadata": {},
   "outputs": [
    {
     "data": {
      "text/plain": [
       "35.8808"
      ]
     },
     "execution_count": 149,
     "metadata": {},
     "output_type": "execute_result"
    }
   ],
   "source": [
    "#Latitude K2\n",
    "dict_locations[\"K2\"][0]\n"
   ]
  },
  {
   "cell_type": "code",
   "execution_count": null,
   "id": "838e05ac",
   "metadata": {},
   "outputs": [],
   "source": [
    "#how to do the previous exercise with a for loop\n",
    "\n",
    "# Initial list of tuples\n",
    "locations = [\n",
    "    (\"Mount Everest\", 27.9881, 86.9250),\n",
    "    (\"K2\", 35.8808, 76.5155),\n",
    "    (\"Kangchenjunga\", 27.7025, 88.1475),\n",
    "]\n",
    "\n",
    "# Extract names and coordinates using list comprehensions\n",
    "names = [location[0] for location in locations]\n",
    "coordinates = [(location[1], location[2]) for location in locations]\n",
    "\n",
    "# Create the dictionary\n",
    "location_dict = dict(zip(names, coordinates))\n",
    "\n",
    "print(location_dict)"
   ]
  },
  {
   "cell_type": "code",
   "execution_count": 150,
   "id": "1cb2e6dc",
   "metadata": {},
   "outputs": [
    {
     "name": "stdout",
     "output_type": "stream",
     "text": [
      "{0: 'Alice', 1: 'Bob', 2: 'Charlie', 3: 'David'}\n"
     ]
    }
   ],
   "source": [
    "#Found in documentation\n",
    "\n",
    "# Example list of names\n",
    "names = [\"Alice\", \"Bob\", \"Charlie\", \"David\"]\n",
    "\n",
    "# Create a dictionary using list indices as keys\n",
    "name_dict = {index: name for index, name in enumerate(names)}\n",
    "\n",
    "print(name_dict)"
   ]
  },
  {
   "cell_type": "code",
   "execution_count": 151,
   "id": "6519587e",
   "metadata": {},
   "outputs": [
    {
     "data": {
      "text/plain": [
       "'Alice'"
      ]
     },
     "execution_count": 151,
     "metadata": {},
     "output_type": "execute_result"
    }
   ],
   "source": [
    "names[0]"
   ]
  },
  {
   "cell_type": "code",
   "execution_count": 153,
   "id": "82c93e4f",
   "metadata": {},
   "outputs": [
    {
     "name": "stdout",
     "output_type": "stream",
     "text": [
      "{'Mount Everest': (27.9881, 86.925), 'K2': (35.8808, 76.5155), 'Kangchenjunga': (27.7025, 88.1475), 'K': (27.9881, 86.925), 'a': (35.8808, 76.5155), 'n': (27.7025, 88.1475)}\n"
     ]
    }
   ],
   "source": [
    "#now doing with for loop \n",
    "\n",
    "dict_locations_1 = {}\n",
    "names = []\n",
    "coordinates= []\n",
    "\n",
    "for location in locations:\n",
    "    name, lat, lon = location\n",
    "    names.append(name)\n",
    "    coordinates.append((lat, lon))\n",
    "\n",
    "#dict_locations_1 = dict(zip(names, coordinates))\n",
    "# hard way\n",
    "\n",
    "\n",
    "for i in range(len(names)):\n",
    "    dict_locations[name[i]] = coordinates[i]\n",
    "\n",
    "print(dict_locations) \n",
    "\n",
    "\n"
   ]
  },
  {
   "cell_type": "code",
   "execution_count": null,
   "id": "3b5d58b5",
   "metadata": {},
   "outputs": [],
   "source": []
  }
 ],
 "metadata": {
  "kernelspec": {
   "display_name": "Python 3 (ipykernel)",
   "language": "python",
   "name": "python3"
  },
  "language_info": {
   "codemirror_mode": {
    "name": "ipython",
    "version": 3
   },
   "file_extension": ".py",
   "mimetype": "text/x-python",
   "name": "python",
   "nbconvert_exporter": "python",
   "pygments_lexer": "ipython3",
   "version": "3.11.9"
  }
 },
 "nbformat": 4,
 "nbformat_minor": 5
}
