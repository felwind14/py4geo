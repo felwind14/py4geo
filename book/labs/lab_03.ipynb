{
 "cells": [
  {
   "cell_type": "markdown",
   "id": "0",
   "metadata": {},
   "source": [
    "# Lab 3\n",
    "\n",
    "[![Open In Colab](https://colab.research.google.com/assets/colab-badge.svg)](https://colab.research.google.com/github/giswqs/geog-312/blob/main/book/labs/lab_03.ipynb)\n",
    "\n",
    "This notebook contains exercises based on the lectures on [**Functions and Classes**](https://geog-312.gishub.org/book/python/06_functions_classes.html) and [**Files and Exception Handling**](https://geog-312.gishub.org/book/python/07_files.html). These exercises will help reinforce the concepts of functions, classes, file handling, and exception management in geospatial contexts."
   ]
  },
  {
   "cell_type": "markdown",
   "id": "1",
   "metadata": {},
   "source": [
    "## Exercise 1: Calculating Distances with Functions\n",
    "\n",
    "- Define a function `calculate_distance` that takes two geographic coordinates (latitude and longitude) and returns the distance between them using the Haversine formula.\n",
    "- Use this function to calculate the distance between multiple pairs of coordinates."
   ]
  },
  {
   "cell_type": "code",
   "execution_count": null,
   "id": "2",
   "metadata": {},
   "outputs": [],
   "source": [
    "def calculate_distance(lat_0, lon_0, lat_1, lat_2):\n",
    "    return \n",
    "\n",
    "\n",
    "\n",
    "\n"
   ]
  },
  {
   "cell_type": "markdown",
   "id": "3",
   "metadata": {},
   "source": [
    "## Exercise 2: Batch Distance Calculation\n",
    "\n",
    "- Create a function `batch_distance_calculation` that accepts a list of coordinate pairs and returns a list of distances between consecutive pairs.\n",
    "- Test the function with a list of coordinates representing several cities."
   ]
  },
  {
   "cell_type": "code",
   "execution_count": null,
   "id": "4",
   "metadata": {},
   "outputs": [],
   "source": []
  },
  {
   "cell_type": "markdown",
   "id": "5",
   "metadata": {},
   "source": [
    "## Exercise 3: Creating and Using a Point Class\n",
    "\n",
    "- Define a `Point` class to represent a geographic point with attributes `latitude`, `longitude`, and `name`.\n",
    "- Add a method `distance_to` that calculates the distance from one point to another.\n",
    "- Instantiate several `Point` objects and calculate the distance between them."
   ]
  },
  {
   "cell_type": "code",
   "execution_count": null,
   "id": "6",
   "metadata": {},
   "outputs": [],
   "source": []
  },
  {
   "cell_type": "markdown",
   "id": "7",
   "metadata": {},
   "source": [
    "## Exercise 4: Reading and Writing Files\n",
    "\n",
    "- Write a function `read_coordinates` that reads a file containing a list of coordinates (latitude, longitude) and returns them as a list of tuples.\n",
    "- Write another function `write_coordinates` that takes a list of coordinates and writes them to a new file.\n",
    "- Ensure that both functions handle exceptions, such as missing files or improperly formatted data."
   ]
  },
  {
   "cell_type": "code",
   "execution_count": null,
   "id": "8",
   "metadata": {},
   "outputs": [],
   "source": []
  },
  {
   "cell_type": "markdown",
   "id": "9",
   "metadata": {},
   "source": [
    "## Exercise 5: Processing Coordinates from a File\n",
    "\n",
    "- Create a function that reads coordinates from a file and uses the `Point` class to create `Point` objects.\n",
    "- Calculate the distance between each consecutive pair of points and write the results to a new file.\n",
    "- Ensure the function handles file-related exceptions and gracefully handles improperly formatted lines."
   ]
  },
  {
   "cell_type": "code",
   "execution_count": null,
   "id": "10",
   "metadata": {},
   "outputs": [],
   "source": []
  },
  {
   "cell_type": "code",
   "execution_count": null,
   "id": "11",
   "metadata": {},
   "outputs": [],
   "source": []
  },
  {
   "cell_type": "markdown",
   "id": "12",
   "metadata": {},
   "source": [
    "## Exercise 6: Exception Handling in Data Processing\n",
    "\n",
    "- Modify the `batch_distance_calculation` function to handle exceptions that might occur during the calculation, such as invalid coordinates.\n",
    "- Ensure the function skips invalid data and continues processing the remaining data."
   ]
  },
  {
   "cell_type": "code",
   "execution_count": null,
   "id": "13",
   "metadata": {},
   "outputs": [],
   "source": []
  }
 ],
 "metadata": {
  "kernelspec": {
   "display_name": "Python 3",
   "language": "python",
   "name": "python3"
  },
  "language_info": {
   "codemirror_mode": {
    "name": "ipython",
    "version": 3
   },
   "file_extension": ".py",
   "mimetype": "text/x-python",
   "name": "python",
   "nbconvert_exporter": "python",
   "pygments_lexer": "ipython3",
   "version": "3.11.8"
  }
 },
 "nbformat": 4,
 "nbformat_minor": 5
}
