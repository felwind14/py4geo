{
  "cells": [
    {
      "cell_type": "markdown",
      "id": "0",
      "metadata": {},
      "source": [
        "# GeoPandas\n",
        "\n",
        "[![Open In Colab](https://colab.research.google.com/assets/colab-badge.svg)](https://colab.research.google.com/github/giswqs/geog-312/blob/main/book/geospatial/geopandas.ipynb)\n",
        "\n",
        "## Overview\n",
        "\n",
        "[GeoPandas](https://geopandas.org) is an open-source Python library that simplifies working with geospatial data by extending Pandas data structures. It seamlessly integrates geospatial operations with a pandas-like interface, allowing for the manipulation of geometric types such as points, lines, and polygons. GeoPandas combines the functionalities of Pandas and Shapely, enabling geospatial operations like spatial joins, buffering, intersections, and projections with ease.\n",
        "\n",
        "## Learning Objectives\n",
        "\n",
        "By the end of this lecture, you should be able to:\n",
        "\n",
        "- Understand the basic data structures in GeoPandas: `GeoDataFrame` and `GeoSeries`.\n",
        "- Create `GeoDataFrames` from tabular data and geometric shapes.\n",
        "- Read and write geospatial data formats like Shapefile and GeoJSON.\n",
        "- Perform common geospatial operations such as measuring areas, distances, and spatial relationships.\n",
        "- Visualize geospatial data using Matplotlib and GeoPandas' built-in plotting functions.\n",
        "- Work with different Coordinate Reference Systems (CRS) and project geospatial data.\n",
        "\n",
        "## Concepts\n",
        "\n",
        "The core data structures in GeoPandas are `GeoDataFrame` and `GeoSeries`. A `GeoDataFrame` extends the functionality of a Pandas DataFrame by adding a geometry column, allowing spatial data operations on geometric shapes. The `GeoSeries` handles geometric data (points, polygons, etc.).\n",
        "\n",
        "A `GeoDataFrame` can have multiple geometry columns, but only one is considered the active geometry at any time. All spatial operations are applied to this active geometry, accessible via the `.geometry` attribute."
      ]
    },
    {
      "cell_type": "markdown",
      "id": "1",
      "metadata": {},
      "source": [
        "## Installing and Importing GeoPandas\n",
        "\n",
        "Before we begin, make sure you have geopandas installed. You can install it using:"
      ]
    },
    {
      "cell_type": "code",
      "execution_count": null,
      "id": "2",
      "metadata": {},
      "outputs": [],
      "source": [
        "# %pip install geopandas"
      ]
    },
    {
      "cell_type": "markdown",
      "id": "3",
      "metadata": {},
      "source": [
        "Once installed, import GeoPandas and other necessary libraries:"
      ]
    },
    {
      "cell_type": "code",
      "execution_count": 4,
      "id": "4",
      "metadata": {},
      "outputs": [],
      "source": [
        "import pandas as pd\n",
        "import geopandas as gpd\n",
        "import matplotlib.pyplot as plt"
      ]
    },
    {
      "cell_type": "markdown",
      "id": "5",
      "metadata": {},
      "source": [
        "## 1. Creating GeoDataFrames\n",
        "\n",
        "A GeoDataFrame is a tabular data structure that contains a `geometry` column, which holds the geometric shapes. You can create a GeoDataFrame from a list of geometries or from a pandas DataFrame."
      ]
    },
    {
      "cell_type": "code",
      "execution_count": null,
      "id": "6",
      "metadata": {},
      "outputs": [],
      "source": [
        "# Creating a GeoDataFrame from scratch\n",
        "data = {\n",
        "    \"City\": [\"Tokyo\", \"New York\", \"London\", \"Paris\"],\n",
        "    \"Latitude\": [35.6895, 40.7128, 51.5074, 48.8566],\n",
        "    \"Longitude\": [139.6917, -74.0060, -0.1278, 2.3522],\n",
        "}\n",
        "\n",
        "df = pd.DataFrame(data)\n",
        "gdf = gpd.GeoDataFrame(df, geometry=gpd.points_from_xy(df.Longitude, df.Latitude))\n",
        "gdf"
      ]
    },
    {
      "cell_type": "markdown",
      "id": "7",
      "metadata": {},
      "source": [
        "## 2. Reading and Writing Geospatial Data\n",
        "\n",
        "GeoPandas allows reading and writing a variety of geospatial formats, such as Shapefiles, GeoJSON, and more. We'll use a GeoJSON dataset of New York City borough boundaries.\n",
        "\n",
        "<h3 style=\"color: orange;\">Reading a GeoJSON File</h3>\n",
        "\n",
        "We'll load the New York boroughs dataset from a GeoJSON file hosted online."
      ]
    },
    {
      "cell_type": "code",
      "execution_count": null,
      "id": "8",
      "metadata": {},
      "outputs": [],
      "source": [
        "url = \"https://github.com/opengeos/datasets/releases/download/vector/nybb.geojson\"\n",
        "gdf = gpd.read_file(url)\n",
        "gdf.head()"
      ]
    },
    {
      "cell_type": "markdown",
      "id": "9",
      "metadata": {},
      "source": [
        "This `GeoDataFrame` contains several columns, including `BoroName`, which represents the names of the boroughs, and `geometry`, which stores the polygons for each borough.\n",
        "\n",
        "<h3 style=\"color: orange;\">Writing to a GeoJSON File</h3>\n",
        "\n",
        "GeoPandas also supports saving geospatial data back to disk. For example, we can save the GeoDataFrame as a new GeoJSON file:"
      ]
    },
    {
      "cell_type": "code",
      "execution_count": null,
      "id": "10",
      "metadata": {},
      "outputs": [],
      "source": [
        "output_file = \"nyc_boroughs.geojson\"\n",
        "gdf.to_file(output_file, driver=\"GeoJSON\")\n",
        "print(f\"GeoDataFrame has been written to {output_file}\")"
      ]
    },
    {
      "cell_type": "markdown",
      "id": "11",
      "metadata": {},
      "source": [
        "Similarly, you can write GeoDataFrames to other formats, such as Shapefiles, GeoPackage, and more."
      ]
    },
    {
      "cell_type": "code",
      "execution_count": null,
      "id": "12",
      "metadata": {},
      "outputs": [],
      "source": [
        "output_file = \"nyc_boroughs.shp\"\n",
        "gdf.to_file(output_file)"
      ]
    },
    {
      "cell_type": "code",
      "execution_count": 15,
      "id": "13",
      "metadata": {},
      "outputs": [],
      "source": [
        "output_file = \"nyc_boroughs.gpkg\"  # !much more efficient use this format\n",
        "gdf.to_file(output_file, driver=\"GPKG\")"
      ]
    },
    {
      "cell_type": "markdown",
      "id": "98d75449",
      "metadata": {},
      "source": [
        "### Downloading from internet"
      ]
    },
    {
      "cell_type": "code",
      "execution_count": 48,
      "id": "96076080",
      "metadata": {},
      "outputs": [],
      "source": [
        "import leafmap "
      ]
    },
    {
      "cell_type": "code",
      "execution_count": null,
      "id": "3c123dd0",
      "metadata": {},
      "outputs": [],
      "source": [
        "leafmap.download_file(url, output = \"/home/felwind14/projects/py4geo/book/geospatial\")"
      ]
    },
    {
      "cell_type": "markdown",
      "id": "14",
      "metadata": {},
      "source": [
        "## 3. Simple Accessors and Methods\n",
        "\n",
        "Now that we have the data, let's explore some simple GeoPandas methods to manipulate and analyze the geometric data.\n",
        "\n",
        "### Measuring Area\n",
        "\n",
        "We can calculate the area of each borough. GeoPandas automatically calculates the area of each polygon:"
      ]
    },
    {
      "cell_type": "code",
      "execution_count": null,
      "id": "e36d5271",
      "metadata": {},
      "outputs": [],
      "source": [
        "gdf"
      ]
    },
    {
      "cell_type": "code",
      "execution_count": null,
      "id": "15",
      "metadata": {},
      "outputs": [],
      "source": [
        "# Set BoroName as the index for easier reference\n",
        "# ! Remember to update gdf to the new GeoDataFrame\n",
        "gdf = gdf.set_index(\"BoroName\")\n",
        "\n",
        "# Calculate the area\n",
        "gdf[\"area\"] = gdf.area\n",
        "gdf"
      ]
    },
    {
      "cell_type": "markdown",
      "id": "16",
      "metadata": {},
      "source": [
        "### Getting Polygon Boundaries and Centroids\n",
        "\n",
        "To get the boundary (lines) and centroid (center point) of each polygon:"
      ]
    },
    {
      "cell_type": "code",
      "execution_count": null,
      "id": "17",
      "metadata": {},
      "outputs": [],
      "source": [
        "# Get the boundary of each polygon\n",
        "gdf[\"boundary\"] = gdf.boundary\n",
        "\n",
        "# Get the centroid of each polygon\n",
        "gdf[\"centroid\"] = gdf.centroid\n",
        "\n",
        "gdf[[\"boundary\", \"centroid\"]]"
      ]
    },
    {
      "cell_type": "code",
      "execution_count": null,
      "id": "bf299b7d",
      "metadata": {},
      "outputs": [],
      "source": [
        "#Changing name to centroid column\n",
        "gdf = gdf.rename(columns={\"centroid\": \"centroid_boro\"})\n",
        "gdf"
      ]
    },
    {
      "cell_type": "markdown",
      "id": "18",
      "metadata": {},
      "source": [
        "### Measuring Distance and filtering\n",
        "\n",
        "We can also measure the distance from each borough's centroid to a reference point, such as the centroid of Manhattan."
      ]
    },
    {
      "cell_type": "code",
      "execution_count": null,
      "id": "f418c82a",
      "metadata": {},
      "outputs": [],
      "source": [
        "gdf.loc[\"Manhattan\"]"
      ]
    },
    {
      "cell_type": "code",
      "execution_count": null,
      "id": "19",
      "metadata": {},
      "outputs": [],
      "source": [
        "# Use Manhattan's centroid as the reference point\n",
        "# ! Loc helps to select a specific row by its index value\n",
        "\n",
        "manhattan_centroid = gdf.loc[\"Manhattan\", \"centroid_boro\"]  #, \"centroid_boro\" to get the specific column\n",
        "\n",
        "# Calculate the distance from each centroid to Manhattan's centroid\n",
        "gdf[\"distance_to_manhattan\"] = gdf[\"centroid_boro\"].distance(manhattan_centroid)\n",
        "gdf[[\"centroid_boro\", \"distance_to_manhattan\"]]"
      ]
    },
    {
      "cell_type": "code",
      "execution_count": null,
      "id": "1fe972cf",
      "metadata": {},
      "outputs": [],
      "source": [
        "manhattan_geom = gdf.loc[\"Manhattan\", \"geometry\"]  \n",
        "manhattan_geom\n",
        "\n",
        "#Note: it is able to find the geometry of Manhattan because we set the index to BoroName"
      ]
    },
    {
      "cell_type": "markdown",
      "id": "20",
      "metadata": {},
      "source": [
        "### Calculating Mean Distance\n",
        "\n",
        "We can calculate the mean distance between the borough centroids and Manhattan:"
      ]
    },
    {
      "cell_type": "code",
      "execution_count": null,
      "id": "21",
      "metadata": {},
      "outputs": [],
      "source": [
        "mean_distance = gdf[\"distance_to_manhattan\"].mean()\n",
        "print(f\"Mean distance to Manhattan: {mean_distance} units\")"
      ]
    },
    {
      "cell_type": "code",
      "execution_count": 58,
      "id": "7cd37d27",
      "metadata": {},
      "outputs": [],
      "source": [
        "#We have to drop some columns to avoid having multiple geometries in the GeoDataFrame\n",
        "gdf.drop(columns= [\"boundary\", \"centroid_boro\"], inplace=True) #inplace is similar gdf = gdf.operation\n"
      ]
    },
    {
      "cell_type": "code",
      "execution_count": null,
      "id": "62d33229",
      "metadata": {},
      "outputs": [],
      "source": [
        "gdf"
      ]
    },
    {
      "cell_type": "code",
      "execution_count": 59,
      "id": "becca67e",
      "metadata": {},
      "outputs": [],
      "source": [
        "gdf.to_file(\"nyc_dst_manhattan.geojson\")"
      ]
    },
    {
      "cell_type": "markdown",
      "id": "22",
      "metadata": {},
      "source": [
        "## 4. Plotting Geospatial Data\n",
        "\n",
        "GeoPandas integrates with Matplotlib for easy plotting of geospatial data. Let's create some maps to visualize the data.\n",
        "\n",
        "### Plotting the Area of Each Borough\n",
        "\n",
        "We can color the boroughs based on their area and display a legend:"
      ]
    },
    {
      "cell_type": "code",
      "execution_count": null,
      "id": "39b27e02",
      "metadata": {},
      "outputs": [],
      "source": [
        "gdf.columns"
      ]
    },
    {
      "cell_type": "code",
      "execution_count": null,
      "id": "6b313972",
      "metadata": {},
      "outputs": [],
      "source": [
        "gdf.plot()"
      ]
    },
    {
      "cell_type": "code",
      "execution_count": null,
      "id": "23",
      "metadata": {},
      "outputs": [],
      "source": [
        "gdf.plot(\"area\", legend=True, figsize=(10, 3))\n",
        "plt.title(\"NYC Boroughs by Area\")\n",
        "plt.show()"
      ]
    },
    {
      "cell_type": "markdown",
      "id": "24",
      "metadata": {},
      "source": [
        "### Plotting Centroids and Boundaries\n",
        "\n",
        "We can also plot the centroids and boundaries:"
      ]
    },
    {
      "cell_type": "code",
      "execution_count": null,
      "id": "811ff8dd",
      "metadata": {},
      "outputs": [],
      "source": [
        "#Some fo the columns do not work once all the code is run because they are dropped in the previous cell\n",
        "#we need to run the lines #gdf.boundary gdf.centroid and rename the centroid\n",
        "\n",
        "gdf.columns"
      ]
    },
    {
      "cell_type": "code",
      "execution_count": null,
      "id": "25",
      "metadata": {},
      "outputs": [],
      "source": [
        "# Plot the boundaries and centroids\n",
        "ax = gdf[\"geometry\"].plot(figsize=(10, 4), edgecolor=\"black\")\n",
        "gdf[\"centroid_boro\"].plot(ax=ax, color=\"red\", markersize=50)\n",
        "plt.title(\"NYC Borough Boundaries and Centroids\")\n",
        "plt.show()"
      ]
    },
    {
      "cell_type": "markdown",
      "id": "26",
      "metadata": {},
      "source": [
        "You can also explore your data interactively using `GeoDataFrame.explore()`, which behaves in the same way `plot()` does but returns an interactive map instead."
      ]
    },
    {
      "cell_type": "code",
      "execution_count": null,
      "id": "27",
      "metadata": {},
      "outputs": [],
      "source": [
        "gdf.explore(\"area\", legend=False)"
      ]
    },
    {
      "cell_type": "markdown",
      "id": "28",
      "metadata": {},
      "source": [
        "## Geometry Manipulations\n",
        "\n",
        "GeoPandas provides several methods for manipulating geometries, such as buffering (creating a buffer zone around geometries) and computing convex hulls (the smallest convex shape enclosing the geometries).\n",
        "\n",
        "### Buffering Geometries\n",
        "\n",
        "We can create a buffer zone around each borough:"
      ]
    },
    {
      "cell_type": "code",
      "execution_count": null,
      "id": "29",
      "metadata": {},
      "outputs": [],
      "source": [
        "# Buffer the boroughs by 10000 feet\n",
        "gdf[\"buffered\"] = gdf.buffer(10000)\n",
        "\n",
        "# Plot the buffered geometries\n",
        "gdf[\"buffered\"].plot(alpha=0.5, edgecolor=\"black\")  #alpha for opacity\n",
        "plt.title(\"Buffered NYC Boroughs (10,000 feet)\")\n",
        "plt.show()\n"
      ]
    },
    {
      "cell_type": "code",
      "execution_count": null,
      "id": "781e558e",
      "metadata": {},
      "outputs": [],
      "source": [
        "gdf"
      ]
    },
    {
      "cell_type": "markdown",
      "id": "30",
      "metadata": {},
      "source": [
        "### Convex Hulls\n",
        "\n",
        "The convex hull is the smallest convex shape that can enclose a geometry. Let's calculate the convex hull for each borough:"
      ]
    },
    {
      "cell_type": "code",
      "execution_count": null,
      "id": "31",
      "metadata": {},
      "outputs": [],
      "source": [
        "# Calculate convex hull\n",
        "gdf[\"convex_hull\"] = gdf.convex_hull  #there are multiple operations that can be done with the GeoDataFrame\n",
        "\n",
        "# Plot the convex hulls\n",
        "gdf[\"convex_hull\"].plot(alpha=0.5, color=\"lightblue\", edgecolor=\"black\")\n",
        "plt.title(\"Convex Hull of NYC Boroughs\")\n",
        "plt.show()"
      ]
    },
    {
      "cell_type": "markdown",
      "id": "32",
      "metadata": {},
      "source": [
        "## Spatial Queries and Relations\n",
        "\n",
        "We can also perform spatial queries to examine relationships between geometries. For instance, we can check which boroughs are within a certain distance of Manhattan.\n",
        "\n",
        "### Checking for Intersections\n",
        "\n",
        "We can find which boroughs' buffered areas intersect with the original geometry of Manhattan:"
      ]
    },
    {
      "cell_type": "code",
      "execution_count": null,
      "id": "33",
      "metadata": {},
      "outputs": [],
      "source": [
        "# Get the geometry of Manhattan\n",
        "manhattan_geom = gdf.loc[\"Manhattan\", \"geometry\"]\n",
        "\n",
        "# Check which buffered boroughs intersect with Manhattan's geometry\n",
        "gdf[\"intersects_manhattan\"] = gdf[\"buffered\"].intersects(manhattan_geom)\n",
        "gdf[[\"intersects_manhattan\"]]"
      ]
    },
    {
      "cell_type": "markdown",
      "id": "34",
      "metadata": {},
      "source": [
        "### Checking for Containment\n",
        "\n",
        "Similarly, we can check if the centroids are contained within the borough boundaries:"
      ]
    },
    {
      "cell_type": "code",
      "execution_count": null,
      "id": "35",
      "metadata": {},
      "outputs": [],
      "source": [
        "# Check if centroids are within the original borough geometries\n",
        "gdf[\"centroid_within_borough\"] = gdf[\"centroid_boro\"].within(gdf[\"geometry\"])\n",
        "gdf[[\"centroid_within_borough\"]]"
      ]
    },
    {
      "cell_type": "markdown",
      "id": "36",
      "metadata": {},
      "source": [
        "## Projections and Coordinate Reference Systems (CRS)\n",
        "\n",
        "GeoPandas makes it easy to manage projections. Each GeoSeries and GeoDataFrame has a crs attribute that defines its CRS.\n",
        "\n",
        "### Checking the CRS\n",
        "\n",
        "Let's check the CRS of the boroughs dataset:"
      ]
    },
    {
      "cell_type": "code",
      "execution_count": null,
      "id": "37",
      "metadata": {},
      "outputs": [],
      "source": [
        "print(gdf.crs)"
      ]
    },
    {
      "cell_type": "markdown",
      "id": "38",
      "metadata": {},
      "source": [
        "The CRS for this dataset is [`EPSG:2263`](https://epsg.io/2263) (NAD83 / New York State Plane). We can reproject the geometries to WGS84 ([`EPSG:4326`](https://epsg.io/4326)), which uses latitude and longitude coordinates.\n",
        "\n",
        "[EPSG](https://epsg.io) stands for European Petroleum Survey Group, which was a scientific organization that standardized geodetic and coordinate reference systems. EPSG codes are unique identifiers that represent coordinate systems and other geodetic properties. \n",
        "\n",
        "### Reprojecting to WGS84"
      ]
    },
    {
      "cell_type": "code",
      "execution_count": 95,
      "id": "c1bbcf1b",
      "metadata": {},
      "outputs": [],
      "source": [
        "gdf.crs"
      ]
    },
    {
      "cell_type": "code",
      "execution_count": null,
      "id": "39",
      "metadata": {},
      "outputs": [],
      "source": [
        "# Reproject the GeoDataFrame to WGS84 (EPSG:4326)\n",
        "gdf_4326 = gdf.to_crs(epsg=4326)\n",
        "\n",
        "# Plot the reprojected geometries\n",
        "gdf_4326.plot(figsize=(10, 6), edgecolor=\"black\")\n",
        "plt.title(\"NYC Boroughs in WGS84 (EPSG:4326)\")\n",
        "plt.show()"
      ]
    },
    {
      "cell_type": "markdown",
      "id": "40",
      "metadata": {},
      "source": [
        "Notice how the coordinates have changed from feet to degrees."
      ]
    },
    {
      "cell_type": "markdown",
      "id": "41",
      "metadata": {},
      "source": [
        "## Exercises\n",
        "\n",
        "1. Create a GeoDataFrame containing a list of countries and their capital cities. Add a geometry column with the locations of the capitals.\n",
        "2. Load a shapefile of your choice, filter the data to only include a specific region or country, and save the filtered GeoDataFrame to a new file.\n",
        "3. Perform a spatial join between two GeoDataFrames: one containing polygons (e.g., country borders) and one containing points (e.g., cities). Find out which points fall within which polygons.\n",
        "4. Plot a map showing the distribution of a particular attribute (e.g., population) across different regions."
      ]
    },
    {
      "cell_type": "code",
      "execution_count": null,
      "id": "42",
      "metadata": {},
      "outputs": [],
      "source": [
        "''# ? Exercise 1 - Create a GeoDataFrame from scratch\n",
        "import geopandas as gpd\n",
        "\n",
        "data = {\n",
        "    \"City\": [\"Tokyo\", \"New York\", \"London\", \"Paris\"],\n",
        "    \"Country\": [\"Japan\", \"USA\", \"UK\", \"France\"],\n",
        "    \"Latitude\": [35.6895, 40.7128, 51.5074, 48.8566],\n",
        "    \"Longitude\": [139.6917, -74.0060, -0.1278, 2.3522],\n",
        "}\n",
        "\n",
        "gdf = gpd.GeoDataFrame(data, geometry=gpd.points_from_xy(data[\"Longitude\"], data[\"Latitude\"]))\n",
        "gdf"
      ]
    },
    {
      "cell_type": "code",
      "execution_count": null,
      "id": "e4905fda",
      "metadata": {},
      "outputs": [],
      "source": [
        "x = gdf.crs\n",
        "print(x)"
      ]
    },
    {
      "cell_type": "code",
      "execution_count": null,
      "id": "327b2fda",
      "metadata": {},
      "outputs": [],
      "source": [
        "#assigning coordinate system\n",
        "\n",
        "gdf.crs = \"EPSG:4326\"\n",
        "gdf.crs"
      ]
    },
    {
      "cell_type": "code",
      "execution_count": null,
      "id": "fcb4cf54",
      "metadata": {},
      "outputs": [],
      "source": [
        "gdf_3857 = gdf.to_crs(epsg=3857)\n",
        "gdf_3857.crs\n",
        "gdf_3857"
      ]
    },
    {
      "cell_type": "code",
      "execution_count": null,
      "id": "457afde0",
      "metadata": {},
      "outputs": [],
      "source": [
        "''# ? Exercise 2 - Load a GeoDataFrame from a file\n",
        "\n",
        "import geopandas as gpd\n",
        "import matplotlib.pyplot as plt \n",
        "import numpy as np\n",
        "\n",
        "url = 'https://raw.githubusercontent.com/opengeos/leafmap/master/examples/data/countries.geojson'\n",
        "gdf_countries = gpd.read_file(url)\n",
        "gdf_countries.head(10)\n"
      ]
    },
    {
      "cell_type": "code",
      "execution_count": null,
      "id": "954c577f",
      "metadata": {},
      "outputs": [],
      "source": [
        "gdf_filter_Colombia =  gdf_countries.loc[gdf_countries[\"NAME\"] == \"Colombia\"]\n",
        "gdf_filter_Colombia"
      ]
    },
    {
      "cell_type": "code",
      "execution_count": null,
      "id": "4e65986d",
      "metadata": {},
      "outputs": [],
      "source": [
        "gdf_colombia = gdf_filter_Colombia.to_crs(epsg=3116) #to find centroid we need to reproject first\n",
        "gdf_colombia[\"centroid\"] = gdf_filter_Colombia.centroid "
      ]
    },
    {
      "cell_type": "code",
      "execution_count": null,
      "id": "b71996af",
      "metadata": {},
      "outputs": [],
      "source": [
        "ax = gdf_filter_Colombia.plot(figsize=(10, 4), edgecolor=\"black\", alpha=0.6, color=\"green\")\n",
        "gdf_colombia[\"centroid\"].plot(ax=ax, color=\"red\", markersize=50)\n"
      ]
    },
    {
      "cell_type": "code",
      "execution_count": null,
      "id": "9013ecc6",
      "metadata": {},
      "outputs": [],
      "source": [
        "''#? Perform a spatial join between two GeoDataFrames: one containing polygons (e.g., country borders) and one \n",
        "#? containing points (e.g., cities). Find out which points fall within which polygons.\n",
        "\n",
        "url = 'https://raw.githubusercontent.com/opengeos/leafmap/refs/heads/master/docs/data/world_cities.geojson'\n",
        "gdf_cities = gpd.read_file(url)\n",
        "gdf_cities.head()"
      ]
    },
    {
      "cell_type": "code",
      "execution_count": null,
      "id": "6ff1eaee",
      "metadata": {},
      "outputs": [],
      "source": [
        "gdf_cities.crs"
      ]
    },
    {
      "cell_type": "code",
      "execution_count": null,
      "id": "a7b26234",
      "metadata": {},
      "outputs": [],
      "source": [
        "# filtered continent south america based on gdf countries exercise 2\n",
        "gdf_south_america = gdf_countries.loc[gdf_countries[\"CONTINENT\"] == \"South America\"]\n",
        "gdf_south_america.head(2)\n"
      ]
    },
    {
      "cell_type": "code",
      "execution_count": null,
      "id": "c1498941",
      "metadata": {},
      "outputs": [],
      "source": [
        "#renaming to keep both geometries cities and countries\n",
        "gdf_south_america.rename(columns={\"geometry\": \"geometry_country\"}, inplace=True)\n",
        "gdf_south_america = gdf_south_america.set_geometry('geometry_country')"
      ]
    },
    {
      "cell_type": "code",
      "execution_count": null,
      "id": "233eb76f",
      "metadata": {},
      "outputs": [],
      "source": [
        "gdf_south_america.plot(figsize=(8, 3), legend=True)"
      ]
    },
    {
      "cell_type": "code",
      "execution_count": null,
      "id": "8e50d785",
      "metadata": {},
      "outputs": [],
      "source": [
        "gdf_merged = gpd.sjoin(gdf_cities, gdf_south_america, how=\"inner\")\n",
        "gdf_merged"
      ]
    },
    {
      "cell_type": "code",
      "execution_count": null,
      "id": "a13503b4",
      "metadata": {},
      "outputs": [],
      "source": [
        "gdf_merged.plot(figsize=(5, 2), legend=True)"
      ]
    },
    {
      "cell_type": "code",
      "execution_count": null,
      "id": "2e998558",
      "metadata": {},
      "outputs": [],
      "source": [
        "gdf_merged_col = gdf_merged.loc[gdf_merged[\"NAME\"] == \"Colombia\"]\n",
        "gdf_merged_col\n",
        "\n"
      ]
    },
    {
      "cell_type": "code",
      "execution_count": null,
      "id": "cbb7be31",
      "metadata": {},
      "outputs": [],
      "source": [
        "ax = gdf_filter_Colombia.plot(figsize=(8, 4), edgecolor=\"black\", alpha=0.6, color=\"green\")\n",
        "gdf_merged_col[\"geometry\"].plot(ax=ax, color=\"red\", markersize=50)"
      ]
    },
    {
      "cell_type": "code",
      "execution_count": null,
      "id": "90426d9d",
      "metadata": {},
      "outputs": [],
      "source": [
        "''# ? Exercise 4 -  proportions of the population of each city that falls within the country borders\n",
        "\n",
        "gdf_south_america[\"population_log10\"] = np.log10(gdf_south_america[\"POP_EST\"])\n",
        "gdf_south_america.plot(\"population_log10\", legend=True, figsize=(8, 4))"
      ]
    },
    {
      "cell_type": "code",
      "execution_count": null,
      "id": "3315ee39",
      "metadata": {},
      "outputs": [],
      "source": [
        "# Plot the data with the base-10 logarithmic transformation for visualization GPT\n",
        "fig, ax = plt.subplots(1, 1, figsize=(20, 15))\n",
        "gdf_south_america.plot(ax=ax, color='white', edgecolor='black')\n",
        "gdf_south_america.plot(column=\"population_log10\", ax=ax, legend=True, cmap='RdYlGn', markersize=50)\n",
        "\n",
        "# Annotate the real population values\n",
        "for x, y, label in zip(gdf_south_america.geometry.centroid.x, gdf_south_america.geometry.centroid.y, gdf_south_america[\"POP_EST\"]):\n",
        "    ax.text(x, y, f'{label:,}', fontsize=8, ha ='center' )\n",
        "\n",
        "plt.title(\"Base-10 Logarithmic Display of Population Proportions with Real Population Values\")\n",
        "plt.show()"
      ]
    },
    {
      "cell_type": "markdown",
      "id": "43",
      "metadata": {},
      "source": [
        "## Summary\n",
        "\n",
        "This lecture provided an introduction to working with geospatial data using GeoPandas. We covered basic concepts such as reading/writing geospatial data, performing spatial operations (e.g., buffering, intersections), and visualizing geospatial data using maps. GeoPandas, built on Pandas and Shapely, enables efficient and intuitive geospatial analysis in Python."
      ]
    },
    {
      "cell_type": "markdown",
      "id": "72b914ae",
      "metadata": {},
      "source": []
    },
    {
      "cell_type": "code",
      "execution_count": 69,
      "id": "23280add",
      "metadata": {},
      "outputs": [
        {
          "name": "stdout",
          "output_type": "stream",
          "text": [
            "- GeoPandas\n",
            "  - Introduction\n",
            "  - Concepts\n",
            "  - Installing and Importing GeoPandas\n",
            "  - 1. Creating GeoDataFrames\n",
            "  - 2. Reading and Writing Geospatial Data\n",
            "    - Downloading from internet\n",
            "  - 3. Simple Accessors and Methods\n",
            "    - Measuring Area\n",
            "    - Getting Polygon Boundaries and Centroids\n",
            "    - Measuring Distance and filtering\n",
            "    - Calculating Mean Distance\n",
            "  - 4. Plotting Geospatial Data\n",
            "    - Plotting the Area of Each Borough\n",
            "    - Plotting Centroids and Boundaries\n",
            "  - Geometry Manipulations\n",
            "    - Buffering Geometries\n",
            "    - Convex Hulls\n",
            "  - Spatial Queries and Relations\n",
            "    - Checking for Intersections\n",
            "    - Checking for Containment\n",
            "  - Projections and Coordinate Reference Systems (CRS)\n",
            "    - Checking the CRS\n",
            "    - Reprojecting to WGS84\n",
            "  - Exercises\n",
            "  - Summary\n"
          ]
        }
      ],
      "source": [
        "import nbformat\n",
        "import re\n",
        "\n",
        "def extract_titles(notebook_path):\n",
        "    # Load the notebook\n",
        "    with open(notebook_path, 'r', encoding='utf-8') as f:\n",
        "        nb = nbformat.read(f, as_version=4)\n",
        "    \n",
        "    titles = []\n",
        "    \n",
        "    # Regular expressions for HTML headings\n",
        "    html_heading_re = re.compile(r'<h([1-6])>(.*?)</h\\1>', re.IGNORECASE)\n",
        "    \n",
        "    # Iterate through the cells and extract titles\n",
        "    for cell in nb.cells:\n",
        "        if cell.cell_type == 'markdown':\n",
        "            lines = cell.source.split('\\n')\n",
        "            for line in lines:\n",
        "                if line.startswith('#'):\n",
        "                    titles.append(line)\n",
        "                else:\n",
        "                    # Check for HTML headings\n",
        "                    match = html_heading_re.match(line)\n",
        "                    if match:\n",
        "                        level = int(match.group(1))\n",
        "                        title_text = match.group(2).strip()\n",
        "                        titles.append('#' * level + ' ' + title_text)\n",
        "    \n",
        "    return titles\n",
        "\n",
        "def generate_toc(titles):\n",
        "    toc = []\n",
        "    for title in titles:\n",
        "        # Count the number of leading '#' to determine the level\n",
        "        level = title.count('#')\n",
        "        # Remove leading '#' and strip leading/trailing whitespace\n",
        "        title_text = title.lstrip('#').strip()\n",
        "        # Create the TOC entry with indentation based on the level\n",
        "        toc.append('  ' * (level - 1) + f'- {title_text}')\n",
        "    \n",
        "    return '\\n'.join(toc)\n",
        "\n",
        "def main():\n",
        "    notebook_path = 'geopandas.ipynb'  # Replace with your notebook path\n",
        "    titles = extract_titles(notebook_path)\n",
        "    toc = generate_toc(titles)\n",
        "    print(toc)\n",
        "\n",
        "if __name__ == '__main__':\n",
        "    main()"
      ]
    },
    {
      "cell_type": "code",
      "execution_count": null,
      "id": "e7d29dd7",
      "metadata": {},
      "outputs": [],
      "source": []
    }
  ],
  "metadata": {
    "kernelspec": {
      "display_name": "Python 3 (ipykernel)",
      "language": "python",
      "name": "python3"
    },
    "language_info": {
      "codemirror_mode": {
        "name": "ipython",
        "version": 3
      },
      "file_extension": ".py",
      "mimetype": "text/x-python",
      "name": "python",
      "nbconvert_exporter": "python",
      "pygments_lexer": "ipython3",
      "version": "3.11.9"
    }
  },
  "nbformat": 4,
  "nbformat_minor": 5
}
