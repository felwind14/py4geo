{
 "cells": [
  {
   "cell_type": "markdown",
   "id": "da61dc1d",
   "metadata": {},
   "source": [
    "# Miniconda\n",
    "\n",
    "[Miniconda](https://docs.anaconda.com/miniconda) is a free minimal installer for conda. It is a small, bootstrap version of Anaconda that includes only conda, Python, the packages they depend on, and a small number of other useful packages, including pip, zlib, and a few others.\n",
    "\n",
    "## Installation\n",
    "\n",
    "To install Miniconda, download the installer from the [Miniconda website](https://docs.anaconda.com/miniconda) and run the installer. The installer will ask you to accept the license agreement, choose the installation directory, and add the conda path to your shell profile.\n",
    "\n",
    "## Usage\n",
    "\n",
    "After installing Miniconda, you can open the **Anaconda Prompt** or **Terminal** to create a new environment and install packages using the following commands:\n",
    "\n",
    "```bash\n",
    "conda create -n geo python=3.11\n",
    "conda activate geo\n",
    "conda install -n base mamba -c conda-forge\n",
    "mamba install -c conda-forge geemap leafmap\n",
    "```"
   ]
  }
 ],
 "metadata": {
  "jupytext": {
   "text_representation": {
    "extension": ".md",
    "format_name": "myst",
    "format_version": 0.13,
    "jupytext_version": "1.16.2"
   }
  },
  "kernelspec": {
   "display_name": "Python 3",
   "language": "python",
   "name": "python3"
  },
  "source_map": [
   12
  ]
 },
 "nbformat": 4,
 "nbformat_minor": 5
}